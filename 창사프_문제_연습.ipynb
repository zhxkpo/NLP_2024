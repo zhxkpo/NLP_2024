{
  "nbformat": 4,
  "nbformat_minor": 0,
  "metadata": {
    "colab": {
      "provenance": [],
      "authorship_tag": "ABX9TyPxYQkQTWKKM8/KHmGIAsE1",
      "include_colab_link": true
    },
    "kernelspec": {
      "name": "python3",
      "display_name": "Python 3"
    },
    "language_info": {
      "name": "python"
    }
  },
  "cells": [
    {
      "cell_type": "markdown",
      "metadata": {
        "id": "view-in-github",
        "colab_type": "text"
      },
      "source": [
        "<a href=\"https://colab.research.google.com/github/zhxkpo/NLP_2024/blob/main/%EC%B0%BD%EC%82%AC%ED%94%84_%EB%AC%B8%EC%A0%9C_%EC%97%B0%EC%8A%B5.ipynb\" target=\"_parent\"><img src=\"https://colab.research.google.com/assets/colab-badge.svg\" alt=\"Open In Colab\"/></a>"
      ]
    },
    {
      "cell_type": "code",
      "execution_count": null,
      "metadata": {
        "colab": {
          "base_uri": "https://localhost:8080/"
        },
        "id": "sG-ARsd9zUmn",
        "outputId": "c35b73ea-f5f1-472a-9027-c5290c9d2764"
      },
      "outputs": [
        {
          "output_type": "stream",
          "name": "stdout",
          "text": [
            "3 7 35\n"
          ]
        }
      ],
      "source": [
        "#1번\n",
        "a=3\n",
        "b=a+4\n",
        "c=b*5\n",
        "print(a,b,c)"
      ]
    },
    {
      "cell_type": "code",
      "source": [
        "#2번\n",
        "a=3\n",
        "b=2\n",
        "c=1\n",
        "a=a+1\n",
        "b=b\n",
        "c=a+b\n",
        "c=c+1\n",
        "print(a,b,c)"
      ],
      "metadata": {
        "colab": {
          "base_uri": "https://localhost:8080/"
        },
        "id": "oW06iTTq3zHa",
        "outputId": "c78e9656-b85f-4bc3-e191-8bf399917f47"
      },
      "execution_count": null,
      "outputs": [
        {
          "output_type": "stream",
          "name": "stdout",
          "text": [
            "4 2 7\n"
          ]
        }
      ]
    },
    {
      "cell_type": "code",
      "source": [
        "#3번\n",
        "num=int(input('정수 입력 : '))\n",
        "num+=10\n",
        "print(num)"
      ],
      "metadata": {
        "colab": {
          "base_uri": "https://localhost:8080/"
        },
        "id": "AHLFMAXp4OtT",
        "outputId": "a38ee4e4-cb1a-4214-f1d8-af7beb0e66b2"
      },
      "execution_count": null,
      "outputs": [
        {
          "output_type": "stream",
          "name": "stdout",
          "text": [
            "정수 입력 : 30\n",
            "40\n"
          ]
        }
      ]
    },
    {
      "cell_type": "code",
      "source": [
        "#4번\n",
        "fnum=float(input('실수 입력 : '))\n",
        "inum=int(fnum)\n",
        "print(fnum,inum)"
      ],
      "metadata": {
        "colab": {
          "base_uri": "https://localhost:8080/"
        },
        "id": "iN-6pQy948t3",
        "outputId": "a14d2a32-ea29-4a74-a406-71bfe168b495"
      },
      "execution_count": null,
      "outputs": [
        {
          "output_type": "stream",
          "name": "stdout",
          "text": [
            "실수 입력 : 3.2\n",
            "3.2 3\n"
          ]
        }
      ]
    },
    {
      "cell_type": "code",
      "source": [
        "#5번\n",
        "num=int(input('정수 입력 : '))\n",
        "snum=str(num)\n",
        "print(num,type(num),snum,type(snum))"
      ],
      "metadata": {
        "colab": {
          "base_uri": "https://localhost:8080/"
        },
        "id": "eTYeVWdy50Mc",
        "outputId": "e491c792-f50a-43aa-d560-fd78960d384b"
      },
      "execution_count": null,
      "outputs": [
        {
          "output_type": "stream",
          "name": "stdout",
          "text": [
            "정수 입력 : 345\n",
            "345 <class 'int'> 345 <class 'str'>\n"
          ]
        }
      ]
    },
    {
      "cell_type": "code",
      "source": [
        "#6번\n",
        "rept=int(input('반복 : '))\n",
        "print('#'*rept)\n",
        "rept=int(input('반복 : '))\n",
        "print('#'*rept)"
      ],
      "metadata": {
        "colab": {
          "base_uri": "https://localhost:8080/"
        },
        "id": "gFNnQcQC6eqX",
        "outputId": "3dda0707-1ef1-4dee-e295-86b6377721c9"
      },
      "execution_count": null,
      "outputs": [
        {
          "output_type": "stream",
          "name": "stdout",
          "text": [
            "반복 : 3\n",
            "###\n",
            "반복 : 5\n",
            "#####\n"
          ]
        }
      ]
    },
    {
      "cell_type": "code",
      "source": [
        "#7번\n",
        "year=int(input('현재 연도 : '))\n",
        "print('경과 연도 :',year-2000)"
      ],
      "metadata": {
        "colab": {
          "base_uri": "https://localhost:8080/"
        },
        "id": "hUX_5GLq7Q40",
        "outputId": "5a9c722c-1cbe-4a09-e379-978d63e4f174"
      },
      "execution_count": null,
      "outputs": [
        {
          "output_type": "stream",
          "name": "stdout",
          "text": [
            "현재 연도 : 2020\n",
            "경과 연도 : 20\n"
          ]
        }
      ]
    },
    {
      "cell_type": "code",
      "source": [
        "#8번\n",
        "horizontal=int(input('가로 : '))\n",
        "vertical=int(input('세로 : '))\n",
        "print('면적 :',horizontal*vertical)"
      ],
      "metadata": {
        "colab": {
          "base_uri": "https://localhost:8080/"
        },
        "id": "BL9qW4I97owB",
        "outputId": "179c61ca-a196-470b-8b53-84e97d86bb6a"
      },
      "execution_count": null,
      "outputs": [
        {
          "output_type": "stream",
          "name": "stdout",
          "text": [
            "가로 : 5\n",
            "세로 : 4\n",
            "면적 : 20\n"
          ]
        }
      ]
    },
    {
      "cell_type": "code",
      "source": [
        "#9번\n",
        "radius=int(input('반지름 : '))\n",
        "print('원의 넓이 :',radius*radius*3.140592)"
      ],
      "metadata": {
        "colab": {
          "base_uri": "https://localhost:8080/"
        },
        "id": "MmHFi3OY8MqX",
        "outputId": "24f73465-85ea-44a4-a420-47c214292046"
      },
      "execution_count": null,
      "outputs": [
        {
          "output_type": "stream",
          "name": "stdout",
          "text": [
            "반지름 : 5\n",
            "원의 넓이 : 78.5148\n"
          ]
        }
      ]
    },
    {
      "cell_type": "code",
      "source": [
        "#10번\n",
        "a=int(input('정수1 : '))\n",
        "b=int(input('정수2 : '))\n",
        "c=int(input('정수3 : '))\n",
        "print('정수1 :',a,'정수2 :',b,'정수3 :',c)\n",
        "sum=a+b+c\n",
        "print('합 :',sum,'평균',sum/3)"
      ],
      "metadata": {
        "colab": {
          "base_uri": "https://localhost:8080/"
        },
        "id": "BzA_QR6u-8mu",
        "outputId": "9ddbf90a-f587-4fdb-dc67-2138c290c3b5"
      },
      "execution_count": 1,
      "outputs": [
        {
          "output_type": "stream",
          "name": "stdout",
          "text": [
            "정수1 : 3\n",
            "정수2 : 5\n",
            "정수3 : 4\n",
            "정수1 : 3 정수2 : 5 정수3 : 4\n",
            "합 : 12 평균 4.0\n"
          ]
        }
      ]
    },
    {
      "cell_type": "code",
      "source": [
        "#11번\n",
        "subject=input('과목 : ')\n",
        "score=int(input('점수 : '))\n",
        "print('선호 과목 :',subject,',','희망 점수 :',score)"
      ],
      "metadata": {
        "colab": {
          "base_uri": "https://localhost:8080/"
        },
        "id": "DHeokel_ANdz",
        "outputId": "f0e76a58-f086-4491-a5e4-ce3cf8a54cd2"
      },
      "execution_count": null,
      "outputs": [
        {
          "output_type": "stream",
          "name": "stdout",
          "text": [
            "과목 : 수학\n",
            "점수 : 95\n",
            "선호 과목 : 수학 , 희망 점수 : 95\n"
          ]
        }
      ]
    }
  ]
}