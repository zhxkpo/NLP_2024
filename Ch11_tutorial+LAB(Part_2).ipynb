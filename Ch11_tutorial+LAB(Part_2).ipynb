{
  "cells": [
    {
      "cell_type": "markdown",
      "metadata": {
        "id": "view-in-github",
        "colab_type": "text"
      },
      "source": [
        "<a href=\"https://colab.research.google.com/github/zhxkpo/NLP_2024/blob/main/Ch11_tutorial%2BLAB(Part_2).ipynb\" target=\"_parent\"><img src=\"https://colab.research.google.com/assets/colab-badge.svg\" alt=\"Open In Colab\"/></a>"
      ]
    },
    {
      "cell_type": "markdown",
      "metadata": {
        "id": "d0SV5XKrn9GW"
      },
      "source": [
        "# 11장 LAB\n"
      ]
    },
    {
      "cell_type": "code",
      "source": [
        "import numpy as np"
      ],
      "metadata": {
        "id": "hfEkrWhU-4Ip"
      },
      "execution_count": null,
      "outputs": []
    },
    {
      "cell_type": "markdown",
      "metadata": {
        "id": "b2HWOGXVJOqR"
      },
      "source": [
        "## LAB 11-2 : ndarray 객체의 메소드와 함수"
      ]
    },
    {
      "cell_type": "markdown",
      "metadata": {
        "id": "KmKSizrxJUaW"
      },
      "source": [
        "### 1. [23, 45, 67, 7, 2, 30, 34, 82]의 정수 값을 가지는 ndarray 객체 a를 생성하여 다음과 같이 출력하여라.\n",
        "\n",
        "\n",
        "\n",
        "```\n",
        "a = [23, 45, 67, 7, 2, 30, 34, 82]\n",
        "\n",
        "```\n",
        "\n",
        "### 이 ndarray에서 최댓값, 최솟값, 평균을 다음과 같이 출력하여라.\n",
        "\n",
        "\n",
        "\n",
        "```\n",
        "최댓값 : 82\n",
        "최솟값 : 2\n",
        "평균 : 36.25\n",
        "```\n",
        "\n"
      ]
    },
    {
      "cell_type": "code",
      "execution_count": null,
      "metadata": {
        "colab": {
          "base_uri": "https://localhost:8080/"
        },
        "id": "_uhJPp0u8V5y",
        "outputId": "586ae88c-faf1-48ec-be41-e2773b7d0f61"
      },
      "outputs": [
        {
          "output_type": "stream",
          "name": "stdout",
          "text": [
            "a = [23 45 67  7  2 30 34 82]\n",
            "최댓값 : 82\n",
            "최솟값 : 2\n",
            "평균 : 36.25\n"
          ]
        }
      ],
      "source": [
        "a=np.array([23,45,67,7,2,30,34,82])\n",
        "print('a =',a)\n",
        "print('최댓값 :',a.max())\n",
        "print('최솟값 :',a.min())\n",
        "print('평균 :',a.mean())"
      ]
    },
    {
      "cell_type": "markdown",
      "metadata": {
        "id": "cR26-iGMKcHu"
      },
      "source": [
        "### 2. numpy.random.randint() 함수를 사용하여 0에서 99까지의 정수 10개를 랜덤하게 생성하시오. 생성한 ndarray 객체에서 최댓값, 최솟값, 평균을 다음과 같이 출력하여라(b 값은 랜덤하게 생성되므로 다음 화면의 값과 일치하지 않음).\n",
        "\n",
        "\n",
        "```\n",
        "b = [25 2 9 86 93 73 15 53 67 20]\n",
        "최댓값 : 93\n",
        "최솟값 : 2\n",
        "평균 : 44.3\n",
        "```\n",
        "\n"
      ]
    },
    {
      "cell_type": "code",
      "execution_count": null,
      "metadata": {
        "colab": {
          "base_uri": "https://localhost:8080/"
        },
        "id": "TrODUBeI8V5y",
        "outputId": "b9a8c772-7228-4bbb-d537-8aac5f6401f6"
      },
      "outputs": [
        {
          "output_type": "stream",
          "name": "stdout",
          "text": [
            "b = [35 58 78 17 37 50 46 28 45 45]\n",
            "최댓값 : 78\n",
            "최솟값 : 17\n",
            "평균 : 43.9\n"
          ]
        }
      ],
      "source": [
        "b=np.random.randint(0,100,10)\n",
        "print('b =',b)\n",
        "print('최댓값 :',b.max())\n",
        "print('최솟값 :',b.min())\n",
        "print('평균 :',b.mean())"
      ]
    },
    {
      "cell_type": "markdown",
      "metadata": {
        "id": "os7VOP_FmC5J"
      },
      "source": [
        "### 3. 위의 문제 1의 a 배열과 문제 2의 b 배열을 numpy의 append 함수를 사용하여 다음과 같은 배열 c를 생성하여 출력하시오.\n",
        "\n",
        "\n",
        "```\n",
        "c = [23 45 67 7 2 30 34 82 25 2 9 86 93 73 15 53 67 20]\n",
        "```\n",
        "\n"
      ]
    },
    {
      "cell_type": "code",
      "execution_count": null,
      "metadata": {
        "colab": {
          "base_uri": "https://localhost:8080/"
        },
        "id": "-lUz5tiX8V5y",
        "outputId": "9e47e35d-1650-4303-8339-899f73da4def"
      },
      "outputs": [
        {
          "output_type": "stream",
          "name": "stdout",
          "text": [
            "c = [23 45 67  7  2 30 34 82 35 58 78 17 37 50 46 28 45 45]\n"
          ]
        }
      ],
      "source": [
        "c=np.append(a,b)\n",
        "print('c =',c)"
      ]
    },
    {
      "cell_type": "markdown",
      "metadata": {
        "id": "Mvr398xfLi6Z"
      },
      "source": [
        "## LAB 11-3 : 다차원 행렬의 생성과 활용"
      ]
    },
    {
      "cell_type": "markdown",
      "metadata": {
        "id": "x-Wy8_j1LtHI"
      },
      "source": [
        "### 1. 1에서 9까지의 모든 정수 값을 크기 순서대로 가지는 3x3 크기의 행렬 a를 생성하고, 모든 성분의 값이 2인 3x3 크기의 행렬 b를 생성하여라."
      ]
    },
    {
      "cell_type": "code",
      "execution_count": null,
      "metadata": {
        "colab": {
          "base_uri": "https://localhost:8080/"
        },
        "id": "WfuLceVG8V5y",
        "outputId": "f2b2aacf-7b3f-4f26-e259-548d9bbcc424"
      },
      "outputs": [
        {
          "output_type": "stream",
          "name": "stdout",
          "text": [
            "a = [[1 2 3]\n",
            " [4 5 6]\n",
            " [7 8 9]]\n",
            "b = [[2 2 2]\n",
            " [2 2 2]\n",
            " [2 2 2]]\n"
          ]
        }
      ],
      "source": [
        "a = np.arange(1, 10).reshape(3, 3)\n",
        "\n",
        "b = np.full((3, 3), 2)\n",
        "\n",
        "print('a =',a)\n",
        "print('b =',b)"
      ]
    },
    {
      "cell_type": "markdown",
      "metadata": {
        "id": "D_ygJa6Jo7bj"
      },
      "source": [
        "### 2. 다음 행렬 연산의 결과를 예상한 후 실행하고 그 결과를 적으시오.\n",
        "```\n",
        "a + b\n",
        "a - b\n",
        "a * b\n",
        "a / b\n",
        "a @ b\n",
        "a ** b\n",
        "```"
      ]
    },
    {
      "cell_type": "code",
      "execution_count": null,
      "metadata": {
        "colab": {
          "base_uri": "https://localhost:8080/"
        },
        "id": "3q_X2kR98V5z",
        "outputId": "29320c76-0928-4197-ba6e-78297142030c"
      },
      "outputs": [
        {
          "output_type": "stream",
          "name": "stdout",
          "text": [
            "[[ 3  4  5]\n",
            " [ 6  7  8]\n",
            " [ 9 10 11]]\n",
            "[[-1  0  1]\n",
            " [ 2  3  4]\n",
            " [ 5  6  7]]\n",
            "[[ 2  4  6]\n",
            " [ 8 10 12]\n",
            " [14 16 18]]\n",
            "[[0.5 1.  1.5]\n",
            " [2.  2.5 3. ]\n",
            " [3.5 4.  4.5]]\n",
            "[[12 12 12]\n",
            " [30 30 30]\n",
            " [48 48 48]]\n",
            "[[ 1  4  9]\n",
            " [16 25 36]\n",
            " [49 64 81]]\n"
          ]
        }
      ],
      "source": [
        "print(a + b)\n",
        "print(a - b)\n",
        "print(a * b)\n",
        "print(a / b)\n",
        "print(a @ b)\n",
        "print(a ** b)"
      ]
    },
    {
      "cell_type": "markdown",
      "metadata": {
        "id": "pfZw5LdiDyFd"
      },
      "source": [
        "## LAB 11-5 : 배열의 재구성\n",
        "### 1. arange() 함수를 사용하여 1에서 12까지의 원소를 가지는 1차원 배열 a1을 생성하여라. 그리고 이 a1 배열을 reshape() 메소드를 사용하여 2행 6열의 행렬로 재구성 하여라."
      ]
    },
    {
      "cell_type": "code",
      "execution_count": null,
      "metadata": {
        "colab": {
          "base_uri": "https://localhost:8080/"
        },
        "id": "-NYfFpWC8V5z",
        "outputId": "9b418e49-2e44-445c-fac4-bd74184dcdeb"
      },
      "outputs": [
        {
          "output_type": "stream",
          "name": "stdout",
          "text": [
            "[[ 1  2  3  4  5  6]\n",
            " [ 7  8  9 10 11 12]]\n"
          ]
        }
      ],
      "source": [
        "a1=np.arange(1,13).reshape(2,6)\n",
        "print(a1)"
      ]
    },
    {
      "cell_type": "markdown",
      "metadata": {
        "id": "vCeQhW3fFdOg"
      },
      "source": [
        "### 2. arange() 함수를 사용하여 1에서 30까지의 원소를 가지는 1차원 배열 a2을 생성하여라. 그리고 이 a2 배열을 reshape() 메소드를 사용하여 3행 10열의 행렬로 재구성하여라."
      ]
    },
    {
      "cell_type": "code",
      "execution_count": null,
      "metadata": {
        "colab": {
          "base_uri": "https://localhost:8080/"
        },
        "id": "SmKwbmKs8V5z",
        "outputId": "8f0d870f-bb50-48ec-af81-dcb026cf2d31"
      },
      "outputs": [
        {
          "output_type": "stream",
          "name": "stdout",
          "text": [
            "[[ 1  2  3  4  5  6  7  8  9 10]\n",
            " [11 12 13 14 15 16 17 18 19 20]\n",
            " [21 22 23 24 25 26 27 28 29 30]]\n",
            "[[ 1  2  3  4  5  6  7  8  9 10]\n",
            " [11 12 13 14 15 16 17 18 19 20]\n",
            " [21 22 23 24 25 26 27 28 29 30]]\n"
          ]
        }
      ],
      "source": [
        "a2=np.arange(1,31).reshape(3,10)\n",
        "print(a2)\n",
        "a2=np.arange(1,31).reshape(3,-1)\n",
        "print(a2)"
      ]
    },
    {
      "cell_type": "markdown",
      "metadata": {
        "id": "tYvQpc7lpH-x"
      },
      "source": [
        "### 3. 문제 2에서 생성한 a2 배열을 reshape() 메소드를 사용하여 6행 5열의 행렬로 재구성한 행렬 a3을 생성하여라."
      ]
    },
    {
      "cell_type": "code",
      "execution_count": null,
      "metadata": {
        "colab": {
          "base_uri": "https://localhost:8080/"
        },
        "id": "wXxNLzJ98V5z",
        "outputId": "6e508b17-c73d-4a11-8c08-f1b2a22bf7d8"
      },
      "outputs": [
        {
          "output_type": "stream",
          "name": "stdout",
          "text": [
            "[[ 1  2  3  4  5]\n",
            " [ 6  7  8  9 10]\n",
            " [11 12 13 14 15]\n",
            " [16 17 18 19 20]\n",
            " [21 22 23 24 25]\n",
            " [26 27 28 29 30]]\n"
          ]
        }
      ],
      "source": [
        "a3=a2.reshape(6,5)\n",
        "print(a3)"
      ]
    },
    {
      "cell_type": "markdown",
      "metadata": {
        "id": "Z_Rsl1UkpKUI"
      },
      "source": [
        "### 4. 문제 3에서 생성한 a3 배열을 transpose() 함수를 사용하여 다음과 같은 전치 행렬을 생성하여라."
      ]
    },
    {
      "cell_type": "code",
      "execution_count": null,
      "metadata": {
        "colab": {
          "base_uri": "https://localhost:8080/"
        },
        "id": "QAqzMbdp8V5z",
        "outputId": "b0c98d4c-a090-4b0f-ae0c-6148513ebfaa"
      },
      "outputs": [
        {
          "output_type": "execute_result",
          "data": {
            "text/plain": [
              "array([[ 1,  6, 11, 16, 21, 26],\n",
              "       [ 2,  7, 12, 17, 22, 27],\n",
              "       [ 3,  8, 13, 18, 23, 28],\n",
              "       [ 4,  9, 14, 19, 24, 29],\n",
              "       [ 5, 10, 15, 20, 25, 30]])"
            ]
          },
          "metadata": {},
          "execution_count": 31
        }
      ],
      "source": [
        "a3.transpose()"
      ]
    },
    {
      "cell_type": "markdown",
      "metadata": {
        "id": "jyea8CjzWRu5"
      },
      "source": [
        "## LAB 11-6 : 행렬의 축과 삽입 함수\n",
        "### 1. 1에서 100까지의 랜덤 정수 15개를 np.random.randint()를 통해서 생성하여라. 이렇게 생성한 정수 값들을 (3, 5)의 shape을 가지는 행렬 a에 저장하도록 하여라."
      ]
    },
    {
      "cell_type": "code",
      "execution_count": null,
      "metadata": {
        "colab": {
          "base_uri": "https://localhost:8080/"
        },
        "id": "sOMBfkZ38V5z",
        "outputId": "d6689ff9-1696-4c13-f871-f90e3f8335f9"
      },
      "outputs": [
        {
          "output_type": "stream",
          "name": "stdout",
          "text": [
            "[[ 6 84 96 34 64]\n",
            " [84 42 49 40 86]\n",
            " [14 59 88 58 49]]\n"
          ]
        }
      ],
      "source": [
        "a=np.random.randint(1,101,15).reshape(3,5)\n",
        "print(a)"
      ]
    },
    {
      "cell_type": "markdown",
      "metadata": {
        "id": "zyBKyOksWrzd"
      },
      "source": [
        "### 2. 문제 1에서 생성한 a 행렬에 대해 각 열의 최댓값, 최솟값, 평균을 각각 출력하시오."
      ]
    },
    {
      "cell_type": "code",
      "execution_count": null,
      "metadata": {
        "colab": {
          "base_uri": "https://localhost:8080/"
        },
        "id": "wWVW4xfe8V50",
        "outputId": "8f5f9495-0574-422f-ea4a-192efc657f78"
      },
      "outputs": [
        {
          "output_type": "stream",
          "name": "stdout",
          "text": [
            "최댓값 : [84 84 96 58 86]\n",
            "최솟값 : [ 6 42 49 34 49]\n",
            "평균 : [34.66666667 61.66666667 77.66666667 44.         66.33333333]\n"
          ]
        }
      ],
      "source": [
        "print('최댓값 :',a.max(axis=0))\n",
        "print('최솟값 :',a.min(axis=0))\n",
        "print('평균 :',a.mean(axis=0))"
      ]
    },
    {
      "cell_type": "markdown",
      "metadata": {
        "id": "1XiDZjDyW6j_"
      },
      "source": [
        "### 3. 문제 1에서 생성한 a 행렬에 대해 각 행의 최댓값, 최솟값, 평균을 각각 출력하시오."
      ]
    },
    {
      "cell_type": "code",
      "execution_count": null,
      "metadata": {
        "colab": {
          "base_uri": "https://localhost:8080/"
        },
        "id": "_9v9-u7l8V50",
        "outputId": "7e798afd-1da9-47ff-d05f-a34fc831eb7a"
      },
      "outputs": [
        {
          "output_type": "stream",
          "name": "stdout",
          "text": [
            "최댓값 : [96 86 88]\n",
            "최솟값 : [ 6 40 14]\n",
            "평균 : [56.8 60.2 53.6]\n"
          ]
        }
      ],
      "source": [
        "print('최댓값 :',a.max(axis=1))\n",
        "print('최솟값 :',a.min(axis=1))\n",
        "print('평균 :',a.mean(axis=1))"
      ]
    },
    {
      "cell_type": "markdown",
      "metadata": {
        "id": "k7JDYSpFWdiH"
      },
      "source": [
        "## LAB 11-7 : 배열의 인덱싱과 슬라이싱\n",
        "### 1. 1에서 10까지의 원소를 가지는 1차원 배열 a를 생성하여라. 이 a를 인덱싱하여 [2, 4, 6, 8]의 원소를 가진 배열 b를 생성하여 다음과 같이 출력하여라.\n",
        "---\n",
        "\n",
        "```\n",
        "a = [ 1 2 3 4 5 6 7 8 9 10]\n",
        "b = [2 4 6 8]\n",
        "```\n",
        "\n"
      ]
    },
    {
      "cell_type": "code",
      "execution_count": null,
      "metadata": {
        "colab": {
          "base_uri": "https://localhost:8080/"
        },
        "id": "IvfscCo_8V50",
        "outputId": "1bab61e0-bf4a-492d-b771-f245cd070519"
      },
      "outputs": [
        {
          "output_type": "stream",
          "name": "stdout",
          "text": [
            "a = [ 1  2  3  4  5  6  7  8  9 10]\n",
            "b = [2 4 6 8]\n"
          ]
        }
      ],
      "source": [
        "a=np.arange(1,11)\n",
        "b=a[1:8:2]\n",
        "print('a =',a)\n",
        "print('b =',b)"
      ]
    },
    {
      "cell_type": "markdown",
      "metadata": {
        "id": "jdaCAebSfYPG"
      },
      "source": [
        "### 2. 문제 1에서 생성한 배열 a를 슬라이싱하여 다음과 같은 배열 b, c, d, e, f를 생성하여라.\n",
        "```\n",
        "b = [ 6  7  8  9 10]\n",
        "c = [ 7  8  9 10]\n",
        "d = [1 2 3]\n",
        "e = [1 3 5 7 9]\n",
        "f = [10  8  6  4  2]\n",
        "```"
      ]
    },
    {
      "cell_type": "code",
      "source": [
        "b=a[5:]\n",
        "print('b =',b)\n",
        "c=a[6:]\n",
        "print('c =',c)\n",
        "d=a[:3]\n",
        "print('d =',d)\n",
        "e=a[::2]\n",
        "print('e =',e)\n",
        "f=a[::-2]\n",
        "print('f =',f)"
      ],
      "metadata": {
        "colab": {
          "base_uri": "https://localhost:8080/"
        },
        "id": "z3bbYr5aD0i4",
        "outputId": "35c4b313-a0f0-4d0b-cd73-4300bc026862"
      },
      "execution_count": null,
      "outputs": [
        {
          "output_type": "stream",
          "name": "stdout",
          "text": [
            "b = [ 6  7  8  9 10]\n",
            "c = [ 7  8  9 10]\n",
            "d = [1 2 3]\n",
            "e = [1 3 5 7 9]\n",
            "f = [10  8  6  4  2]\n"
          ]
        }
      ]
    },
    {
      "cell_type": "markdown",
      "metadata": {
        "id": "_luWnY7A2uFR"
      },
      "source": [
        "## LAB 11-9 : 2차원 배열의 슬라이싱\n",
        "\n",
        "### 1. 1에서 16까지의 연속적인 값을 원소로 가지는 4x4 크기의 2차원 배열 a를 생성하여라. 이 a를 인덱싱하여 다음과 같은 b, c, d, e, f 배열을 구하여라.\n",
        "\n",
        "```\n",
        "b = [ 1 5 9 13]\n",
        "c = [ 9 10 11]\n",
        "d = [[ 1 2] [ 5 6]]\n",
        "e = [[ 5 6] [ 9 10]]\n",
        "```\n",
        "\n"
      ]
    },
    {
      "cell_type": "code",
      "execution_count": null,
      "metadata": {
        "colab": {
          "base_uri": "https://localhost:8080/"
        },
        "id": "AsmP6_-W8V50",
        "outputId": "7aa7cd77-6978-4a41-b67a-57927917d005"
      },
      "outputs": [
        {
          "output_type": "stream",
          "name": "stdout",
          "text": [
            "[[ 1  2  3  4]\n",
            " [ 5  6  7  8]\n",
            " [ 9 10 11 12]\n",
            " [13 14 15 16]]\n",
            "b = [ 1  5  9 13]\n",
            "c = [ 9 10 11]\n",
            "d = [[1 2]\n",
            " [5 6]]\n",
            "e = [[ 5  6]\n",
            " [ 9 10]]\n"
          ]
        }
      ],
      "source": [
        "a=np.arange(1,17).reshape(4,4)\n",
        "print(a)\n",
        "\n",
        "b=a[:,0]\n",
        "print('b =',b)\n",
        "c=a[2,:3]\n",
        "print('c =',c)\n",
        "d=a[:2,:2]\n",
        "print('d =',d)\n",
        "e=a[1:3,:2]\n",
        "print('e =',e)"
      ]
    },
    {
      "cell_type": "markdown",
      "metadata": {
        "id": "Mt0PXq3LI1JM"
      },
      "source": [
        "### 2. 문제 1에서 생성한 배열 a를 슬라이싱하고 평탄화 연산을 하여 다음과 같은 배열 f, g, h를 생성하여라.\n",
        "\n",
        "```\n",
        "f = [ 0 1 2 4 5 6]\n",
        "g = [ 8 9 10 11 12 13 14 15]\n",
        "h = [ 5 6 7 13 14 15]\n",
        "```\n",
        "\n"
      ]
    },
    {
      "cell_type": "code",
      "execution_count": null,
      "metadata": {
        "colab": {
          "base_uri": "https://localhost:8080/"
        },
        "id": "Gxi8Dbfp8V50",
        "outputId": "82f0fa10-2cc5-40ec-ad87-20593ae70cff"
      },
      "outputs": [
        {
          "output_type": "stream",
          "name": "stdout",
          "text": [
            "f = [1 2 3 5 6 7]\n",
            "g = [ 9 10 11 12 13 14 15 16]\n",
            "h = [ 6  7  8 14 15 16]\n"
          ]
        }
      ],
      "source": [
        "f=a[:2,:3].flatten()\n",
        "print('f =',f)\n",
        "g=np.concatenate(a[2:,:],axis=0)\n",
        "print('g =',g)\n",
        "h=np.concatenate(a[1::2,1:])\n",
        "print('h =',h)"
      ]
    },
    {
      "cell_type": "markdown",
      "metadata": {
        "id": "UJSnLDV78V50"
      },
      "source": [
        "## EX 11.15 다음과 같이 사용자로부터 정수 n을 입력으로 받아서 (n, n) shape의 정방행렬을 만드시오.\n",
        "### 1) 이 행렬의 대각선 성분과 그 아래 값들이 다음과 같이 모두 1이 되도록 만드시오.\n",
        "---\n",
        "실행 결과\n",
        "```\n",
        "n을 입력하시오 : 5\n",
        "[[1 0 0 0 0]\n",
        " [1 1 0 0 0]\n",
        " [1 1 1 0 0]\n",
        " [1 1 1 1 0]\n",
        " [1 1 1 1 1]]\n",
        " ```"
      ]
    },
    {
      "cell_type": "code",
      "execution_count": null,
      "metadata": {
        "colab": {
          "base_uri": "https://localhost:8080/"
        },
        "id": "W8XxG9zX8V50",
        "outputId": "8e9408c4-12ab-496b-b753-aef6c837f1f2"
      },
      "outputs": [
        {
          "output_type": "stream",
          "name": "stdout",
          "text": [
            "n을 입력하시오 : 5\n",
            "[[1. 0. 0. 0. 0.]\n",
            " [1. 1. 0. 0. 0.]\n",
            " [1. 1. 1. 0. 0.]\n",
            " [1. 1. 1. 1. 0.]\n",
            " [1. 1. 1. 1. 1.]]\n"
          ]
        }
      ],
      "source": [
        "n=int(input('n을 입력하시오 : '))\n",
        "a=np.zeros((n,n))\n",
        "\n",
        "for i in range(n):\n",
        "  for j in range(n):\n",
        "    if i >= j:\n",
        "        a[i, j] = 1\n",
        "\n",
        "print(a)"
      ]
    },
    {
      "cell_type": "markdown",
      "metadata": {
        "id": "PriXwt1e8V51"
      },
      "source": [
        "### 3) 이 행렬의 행 방향 원소의 합을 다음과 같이 구하시오(0축 방향).\n",
        "---\n",
        "실행 결과\n",
        "\n",
        "\n",
        "```\n",
        "행렬의 행축 방향 성분의 합 :\n",
        "[5 4 3 2 1]\n",
        "```"
      ]
    },
    {
      "cell_type": "code",
      "execution_count": null,
      "metadata": {
        "colab": {
          "base_uri": "https://localhost:8080/"
        },
        "id": "xkr-9vlr8V51",
        "outputId": "03a2ac6e-a2bc-47bf-c028-173dd6a5288d"
      },
      "outputs": [
        {
          "output_type": "stream",
          "name": "stdout",
          "text": [
            "행렬의 행축 방향 성분의 합 : [5. 4. 3. 2. 1.]\n"
          ]
        }
      ],
      "source": [
        "print('행렬의 행축 방향 성분의 합 :',a.sum(axis=0))"
      ]
    }
  ],
  "metadata": {
    "colab": {
      "provenance": [],
      "include_colab_link": true
    },
    "kernelspec": {
      "display_name": "Python 3 (ipykernel)",
      "language": "python",
      "name": "python3"
    },
    "language_info": {
      "codemirror_mode": {
        "name": "ipython",
        "version": 3
      },
      "file_extension": ".py",
      "mimetype": "text/x-python",
      "name": "python",
      "nbconvert_exporter": "python",
      "pygments_lexer": "ipython3",
      "version": "3.11.5"
    }
  },
  "nbformat": 4,
  "nbformat_minor": 0
}