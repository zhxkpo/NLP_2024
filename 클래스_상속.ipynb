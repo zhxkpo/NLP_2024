{
  "nbformat": 4,
  "nbformat_minor": 0,
  "metadata": {
    "colab": {
      "provenance": [],
      "authorship_tag": "ABX9TyN78kW82o+Ipo2SMQCgmvTi",
      "include_colab_link": true
    },
    "kernelspec": {
      "name": "python3",
      "display_name": "Python 3"
    },
    "language_info": {
      "name": "python"
    }
  },
  "cells": [
    {
      "cell_type": "markdown",
      "metadata": {
        "id": "view-in-github",
        "colab_type": "text"
      },
      "source": [
        "<a href=\"https://colab.research.google.com/github/zhxkpo/NLP_2024/blob/main/%ED%81%B4%EB%9E%98%EC%8A%A4_%EC%83%81%EC%86%8D.ipynb\" target=\"_parent\"><img src=\"https://colab.research.google.com/assets/colab-badge.svg\" alt=\"Open In Colab\"/></a>"
      ]
    },
    {
      "cell_type": "code",
      "execution_count": null,
      "metadata": {
        "id": "JYIWsaIQFqrQ"
      },
      "outputs": [],
      "source": [
        "class Car:\n",
        "  def __init__(self, make, model, color,  price):\n",
        "    self.__make = make#\n",
        "    self.__model = model#\n",
        "    self.__color = color#\n",
        "    self.__price = price#\n",
        "\n",
        "  def setMake(self, make):#\n",
        "    self.__make = make\n",
        "\n",
        "  def getMake(self):#\n",
        "    return self.__make\n",
        "\n",
        "  def getDesc(self):\n",
        "    return \"차량=(\"+str(self.__make)+\",\"+str(self.__model)+\",\"+str(self.__color)+\",\"+str(self.__price)+\")\""
      ]
    },
    {
      "cell_type": "code",
      "source": [
        "class ElectricCar(Car) :#\n",
        "  def __init__(self, make, model, color, price, batterySize):\n",
        "    super().__init__(make, model, color, price)  #\n",
        "    self.__batterySize=batterySize#\n",
        "\n",
        "  def setBatterySize(self,  batterySize):#\n",
        "    self.__batterySize=batterySize\n",
        "\n",
        "  def getBtterySize(self):#\n",
        "    return self.__batterySize\n",
        "\n",
        "myCar = ElectricCar(\"Tisla\", \"Model S\", \"white\", 10000, 0)\n",
        "myCar.setMake(\"Tesla\")\n",
        "myCar.setBatterySize(60)\n",
        "print(myCar.getDesc())"
      ],
      "metadata": {
        "colab": {
          "base_uri": "https://localhost:8080/"
        },
        "id": "_S681QW4G2TZ",
        "outputId": "d85c6b92-6064-474a-d0ec-93d170e31e4f"
      },
      "execution_count": null,
      "outputs": [
        {
          "output_type": "stream",
          "name": "stdout",
          "text": [
            "차량=(Tesla,Model S,white,10000)\n"
          ]
        }
      ]
    }
  ]
}