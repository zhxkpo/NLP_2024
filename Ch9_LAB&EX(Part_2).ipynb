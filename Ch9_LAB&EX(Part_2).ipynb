{
  "cells": [
    {
      "cell_type": "markdown",
      "metadata": {
        "id": "view-in-github",
        "colab_type": "text"
      },
      "source": [
        "<a href=\"https://colab.research.google.com/github/zhxkpo/NLP_2024/blob/main/Ch9_LAB%26EX(Part_2).ipynb\" target=\"_parent\"><img src=\"https://colab.research.google.com/assets/colab-badge.svg\" alt=\"Open In Colab\"/></a>"
      ]
    },
    {
      "cell_type": "markdown",
      "id": "90e9c6c7",
      "metadata": {
        "id": "90e9c6c7"
      },
      "source": [
        "# Reading Materials\n",
        "\n",
        "#### [- Naming with Underscores in Python](https://medium.com/python-features/naming-conventions-with-underscores-in-python-791251ac7097)\n",
        "#### [- Magic (Dunder) Methods in Python](https://www.tutorialsteacher.com/python/magic-methods-in-python)\n",
        "#### [- A Guide to Python's Magic Methods](https://rszalski.github.io/magicmethods/)"
      ]
    },
    {
      "cell_type": "markdown",
      "id": "dbbd2cf7",
      "metadata": {
        "id": "dbbd2cf7"
      },
      "source": [
        "### 1. 다음과 같은 객체를 생성한 후 id를 비교해 보자 이 코드의 결과는 무엇인가? 이와 같은 결과가 출력되는 이유를 각각 기술하시오.\n",
        "\n",
        "\n",
        "```\n",
        ">>> a = 100\n",
        ">>> b = a\n",
        ">>> id(a) == id(100)\n",
        "a) __________\n",
        ">>> id(b) == id(100)\n",
        "b) __________\n",
        ">>> id(a) == id(b)\n",
        "c) __________\n",
        ">>> a = 200\n",
        ">>> id(a) == id(200)\n",
        "d) __________\n",
        ">>> id(b) == id(200)\n",
        "e) __________\n",
        ">>> id(a) == id(b)\n",
        "f) __________\n",
        "```\n"
      ]
    },
    {
      "cell_type": "code",
      "execution_count": null,
      "id": "705057d1",
      "metadata": {
        "id": "705057d1"
      },
      "outputs": [],
      "source": []
    },
    {
      "cell_type": "code",
      "execution_count": null,
      "id": "ebe00dfe",
      "metadata": {
        "colab": {
          "base_uri": "https://localhost:8080/"
        },
        "id": "ebe00dfe",
        "outputId": "3ecead99-9f6e-4836-80b8-57c6f1a2e455"
      },
      "outputs": [
        {
          "output_type": "execute_result",
          "data": {
            "text/plain": [
              "True"
            ]
          },
          "metadata": {},
          "execution_count": 1
        }
      ],
      "source": [
        "a = 125\n",
        "b = 125\n",
        "a is b"
      ]
    },
    {
      "cell_type": "code",
      "execution_count": null,
      "id": "2a19bd38",
      "metadata": {
        "colab": {
          "base_uri": "https://localhost:8080/"
        },
        "id": "2a19bd38",
        "outputId": "578a1990-4855-49c6-e3d7-e20dbbb78a6e"
      },
      "outputs": [
        {
          "output_type": "execute_result",
          "data": {
            "text/plain": [
              "False"
            ]
          },
          "metadata": {},
          "execution_count": 2
        }
      ],
      "source": [
        "a = 257\n",
        "b = 257\n",
        "a is b"
      ]
    },
    {
      "cell_type": "code",
      "execution_count": null,
      "id": "5c35fd94",
      "metadata": {
        "colab": {
          "base_uri": "https://localhost:8080/"
        },
        "id": "5c35fd94",
        "outputId": "de777034-80e7-43b1-ddb8-5dec489404cc"
      },
      "outputs": [
        {
          "output_type": "stream",
          "name": "stdout",
          "text": [
            "True\n",
            "True\n"
          ]
        }
      ],
      "source": [
        "a = b = [1, 2, 3]\n",
        "\n",
        "print(a is b)\n",
        "print(a == b)"
      ]
    },
    {
      "cell_type": "code",
      "execution_count": null,
      "id": "e423c497",
      "metadata": {
        "colab": {
          "base_uri": "https://localhost:8080/"
        },
        "id": "e423c497",
        "outputId": "0d036966-837c-45c2-c5d3-c02b6a664ba4"
      },
      "outputs": [
        {
          "output_type": "stream",
          "name": "stdout",
          "text": [
            "False\n",
            "True\n"
          ]
        }
      ],
      "source": [
        "a = (1, 2, 3)\n",
        "b = (1, 2, 3)\n",
        "print(a is b)\n",
        "print(a == b)"
      ]
    },
    {
      "cell_type": "markdown",
      "id": "11d68697",
      "metadata": {
        "id": "11d68697"
      },
      "source": [
        "## 9.5 다섯 개의 변수 a, b, c, d, e에 각각 1, 1, 2, 3, 3을 할당한 뒤에 각각의 변수들이 동일한 객체를 가리키고 있는지를 확인하는 코드를 is 연산자를 이용하여 작성한 뒤 다음과 같은 결과가 나오게 하라.\n",
        "---\n",
        "실행 결과\n",
        "\n",
        "\n",
        "```\n",
        "a와 b는 같은 객체인가? True\n",
        "b와 c는 같은 객체인가? False\n",
        "c와 d는 같은 객체인가? False\n",
        "d와 e는 같은 객체인가? True\n",
        "```\n"
      ]
    },
    {
      "cell_type": "code",
      "execution_count": null,
      "id": "e48120e4",
      "metadata": {
        "colab": {
          "base_uri": "https://localhost:8080/"
        },
        "id": "e48120e4",
        "outputId": "c89f8e30-92fd-4b19-94c2-bcb9f30c43ea"
      },
      "outputs": [
        {
          "output_type": "stream",
          "name": "stdout",
          "text": [
            "a와 b는 같은 객체인가? True\n",
            "b와 c는 같은 객체인가? False\n",
            "c와 d는 같은 객체인가? False\n",
            "d와 e는 같은 객체인가? True\n"
          ]
        }
      ],
      "source": [
        "a, b, c, d, e = 1, 1, 2, 3, 3\n",
        "print(f'a와 b는 같은 객체인가? {a is b}')\n",
        "print(f'b와 c는 같은 객체인가? {b is c}')\n",
        "print(f'c와 d는 같은 객체인가? {c is d}')\n",
        "print(f'd와 e는 같은 객체인가? {d is e}')"
      ]
    },
    {
      "cell_type": "markdown",
      "id": "17a9b4ea",
      "metadata": {
        "id": "17a9b4ea"
      },
      "source": [
        "## LAB 9-8 : 특수 메소드의 응용\n",
        "### 1. 특수메소드 __ add__(), __ sub__(), __neg__() 메소드를 작성하여 두 벡터의 덧셈과 뺄셈, 그리고 음의 벡터 연산을 구현하여라. v1이 (30, 40)이고 v2가 (10, 20)이라고 가정하고 다음과 같은 결과가 나타나도록 출력문을 작성하여라.\n",
        "\n",
        "\n",
        "```\n",
        "v1 + v2 = (40, 60)\n",
        "v1 - v2 = (20, 20)\n",
        "-v1 = (-30, -40)\n",
        "-v2 = (-10, -20)\n",
        "```"
      ]
    },
    {
      "cell_type": "code",
      "execution_count": null,
      "id": "f8e0b4b7",
      "metadata": {
        "colab": {
          "base_uri": "https://localhost:8080/"
        },
        "id": "f8e0b4b7",
        "outputId": "53631c74-d7ce-410d-c278-88428724d7f5"
      },
      "outputs": [
        {
          "output_type": "stream",
          "name": "stdout",
          "text": [
            "v1 + v2 = (40, 60)\n",
            "v1 - v2 = (20, 20)\n",
            "-v1 = (-30, -40)\n",
            "-v2 = (-10, -20)\n"
          ]
        }
      ],
      "source": [
        "class Vector:\n",
        "  def __init__(self,x,y):\n",
        "    self.x=x\n",
        "    self.y=y\n",
        "\n",
        "  def __add__(self,other):\n",
        "    return Vector(self.x+other.x, self.y+other.y)\n",
        "\n",
        "  def __sub__(self,other):\n",
        "    return Vector(self.x-other.x,self.y-other.y)\n",
        "\n",
        "  def __neg__(self):\n",
        "    return Vector(-self.x,-self.y)\n",
        "\n",
        "  def __str__(self):\n",
        "    return f'({self.x}, {self.y})'\n",
        "\n",
        "v1=Vector(30,40)\n",
        "v2=Vector(10,20)\n",
        "\n",
        "print(f\"v1 + v2 = {v1 + v2}\")\n",
        "print(f\"v1 - v2 = {v1 - v2}\")\n",
        "print(f\"-v1 = {-v1}\")\n",
        "print(f\"-v2 = {-v2}\")"
      ]
    },
    {
      "cell_type": "markdown",
      "id": "2380f979",
      "metadata": {
        "id": "2380f979"
      },
      "source": [
        "## LAB 9-9 : 벡터의 크기 비교하기\n",
        "### 1. 비교 연산자에 해당하는 특수 메소드를 이용하여 두 벡터의 크기를 비교하는 프로그램을 작성하시오. v1이 (30, 40)이고 v2가 (10, 20)이라고 가정하면 다음과 같은 결과가 나 타나도록 출력문을 작성하여라.\n",
        "\n",
        "\n",
        "```\n",
        "v1 > v2 = True\n",
        "v1 < v2 = False\n",
        "```\n"
      ]
    },
    {
      "cell_type": "code",
      "execution_count": null,
      "id": "ca9de942",
      "metadata": {
        "colab": {
          "base_uri": "https://localhost:8080/"
        },
        "collapsed": true,
        "id": "ca9de942",
        "outputId": "04fb2200-063c-4523-b439-581b985cc5fd"
      },
      "outputs": [
        {
          "output_type": "stream",
          "name": "stdout",
          "text": [
            "v1 > v2 = True\n",
            "v1 < v2 = False\n"
          ]
        }
      ],
      "source": [
        "class Vector:\n",
        "  def __init__(self,x,y):\n",
        "    self.x=x\n",
        "    self.y=y\n",
        "\n",
        "  def __lt__(self,other):\n",
        "    return self.magnitude() < other.magnitude()\n",
        "\n",
        "  def __gt__(self,other):\n",
        "    return self.magnitude() > other.magnitude()\n",
        "\n",
        "  def magnitude(self):\n",
        "    return (self.x ** 2 + self.y ** 2) ** 0.5\n",
        "\n",
        "v1=Vector(30,40)\n",
        "v2=Vector(10,20)\n",
        "\n",
        "print(f\"v1 > v2 = {v1 > v2}\")\n",
        "print(f\"v1 < v2 = {v1 < v2}\")"
      ]
    },
    {
      "cell_type": "markdown",
      "id": "e3ee81ba",
      "metadata": {
        "id": "e3ee81ba"
      },
      "source": [
        "### A1.  Book 클래스 구현하기\n",
        "\n",
        "### 목표: 책을 표현하는 Book 클래스를 구현한다. 이 클래스는 다음의 특수 메소드를 가지고 있다.\n",
        "\n",
        "- `__init__(self, title, author, year)`: 책의 제목, 저자, 출판 연도를 초기화\n",
        "- `__str__(self)`: 책의 정보를 문자열 형태로 출력. 예) \"The Great Gatsby by F. Scott Fitzgerald, 1925\"\n",
        "- `__eq__(self, other)`: 두 책이 같은 제목과 저자를 가졌는지 비교하는 기능. 예) book1 == book2\n",
        "- `__lt__(self, other)`: 두 책의 출판 연도를 비교하여, 더 오래된 책이 '크다'라고 할 때 True가 출력.\n"
      ]
    },
    {
      "cell_type": "code",
      "execution_count": null,
      "id": "53202548",
      "metadata": {
        "colab": {
          "base_uri": "https://localhost:8080/"
        },
        "id": "53202548",
        "outputId": "a0c1e5f7-027a-48c9-f3ea-48dd35eef873"
      },
      "outputs": [
        {
          "output_type": "stream",
          "name": "stdout",
          "text": [
            "False\n",
            "True\n"
          ]
        }
      ],
      "source": [
        "class Book:\n",
        "  def __init__(self,title,author,year):\n",
        "    self.title=title\n",
        "    self.author=author\n",
        "    self.year=year\n",
        "\n",
        "  def __str__(self):\n",
        "    return f'{self.title} by {self.author}, {self.year}'\n",
        "\n",
        "  def __eq__(self,other):\n",
        "    return self.title == other.title and self.author == other.author\n",
        "\n",
        "  def __lt__(self,other):\n",
        "    return self.year < other.year\n",
        "\n",
        "book1=Book('The Great Gatsby',' F. Scott Fitzgerald',1925)\n",
        "book2=Book('소나기',' 황순원',1952)\n",
        "\n",
        "print(book1==book2)\n",
        "print(book1<book2)"
      ]
    },
    {
      "cell_type": "markdown",
      "id": "1322cf13",
      "metadata": {
        "id": "1322cf13"
      },
      "source": [
        "## 9.10 다음과 같은 기능을 가지는 은행계좌 클래스 BankAccount 클래스를 구현하여라. 그리고 이 클래스를 이용하여 인스턴스를 생성하여라. 이 클래스는 다음과 같은 속성과 동작을 가진다.\n",
        "* 속성\n",
        "  * 이름(__name)\n",
        "  * 계좌번호(__account_num)\n",
        "  * 잔액(__balance): 객체 생성 시 잔액은 디폴트로 0의 값을 갖도록 할 것\n",
        "  * 이자율(interest_rate) -> class variable\n",
        "* 행동  \n",
        "  * \\_\\_init__()\n",
        "  * \\_\\_ str__(): 고객명, 계좌번호 및 잔액을 포함한 고객(객체) 정보를 문자열로 반환\n",
        "  * 예금 기능 : deposit(money)\n",
        "    * money 만큼의 돈을 balance에 추가한다.\n",
        "  \n",
        "  * 출금 기능 : withdraw(money)\n",
        "    * money 만큼의 돈이 balance에서 빠져나간다(balance가 money보다 작으면 출금이 되지 않는다).\n",
        "---\n",
        "## BankAccount라는 클래스를 만든 후 다음과 같이 account1이라는 계좌를 생성하고 2000원을 입금하여라. 이 계좌 정보를 출력한 후 500원을 출금한 후 다음과 같이 계좌 정보를 출력하여라. 마지막으로 5000원을 출금하여라.\n",
        "\n",
        "```\n",
        "account1 = BankAccount(\"홍길동\", \"1234-0001\")\n",
        "print(account1)\n",
        "account1.deposit(2000)\n",
        "print(account1)\n",
        "account1.withdraw(500)\n",
        "print(account1)\n",
        "account1.withdraw(5000)\n",
        "```"
      ]
    },
    {
      "cell_type": "code",
      "execution_count": null,
      "id": "5e7a722e",
      "metadata": {
        "id": "5e7a722e",
        "colab": {
          "base_uri": "https://localhost:8080/"
        },
        "outputId": "e4e1b22c-a918-4c51-f627-4b3e8c7bfbf1"
      },
      "outputs": [
        {
          "output_type": "stream",
          "name": "stdout",
          "text": [
            "이름 : 홍길동, 계좌 번호 : 1234-0001, 잔액 : 0\n",
            "이름 : 홍길동, 계좌 번호 : 1234-0001, 잔액 : 2000\n",
            "이름 : 홍길동, 계좌 번호 : 1234-0001, 잔액 : 1500\n",
            "Insufficient balance. Cannot withdraw.\n"
          ]
        }
      ],
      "source": [
        "class BankAccount:\n",
        "    interest_rate = 0.05\n",
        "\n",
        "    def __init__(self, name, account_num, balance=0):\n",
        "        self.__name = name\n",
        "        self.__account_num = account_num\n",
        "        self.__balance = balance\n",
        "\n",
        "    def __str__(self):\n",
        "        return f'이름 : {self.__name}, 계좌 번호 : {self.__account_num}, 잔액 : {self.__balance}'\n",
        "\n",
        "    def deposit(self, money):\n",
        "        self.__balance += money\n",
        "\n",
        "    def withdraw(self, money):\n",
        "        if money <= self.__balance:\n",
        "            self.__balance -= money\n",
        "        else:\n",
        "            print(\"Insufficient balance. Cannot withdraw.\")\n",
        "\n",
        "\n",
        "\n",
        "account1 = BankAccount(\"홍길동\", \"1234-0001\")\n",
        "print(account1)\n",
        "account1.deposit(2000)\n",
        "print(account1)\n",
        "account1.withdraw(500)\n",
        "print(account1)\n",
        "account1.withdraw(5000)"
      ]
    },
    {
      "cell_type": "markdown",
      "id": "90b6b800",
      "metadata": {
        "id": "90b6b800"
      },
      "source": [
        "## 9.10+ 위의 BackAccount 클래스에 equality 연산자(==)가 작동하도록 하여라. BackAccount 클래스의 == 연산은 두 객채의 이름 속성이 같은지를 판단한다. 두 개의 객체를 생성하여 작성한 == 연산이 올바르게 작동하는지 확인해보자."
      ]
    },
    {
      "cell_type": "code",
      "execution_count": null,
      "id": "3c7d74de",
      "metadata": {
        "id": "3c7d74de",
        "colab": {
          "base_uri": "https://localhost:8080/"
        },
        "outputId": "3bd95eec-12d3-43ff-9e6c-9a4241920283"
      },
      "outputs": [
        {
          "output_type": "stream",
          "name": "stdout",
          "text": [
            "account1 == account2: True\n",
            "account1 == account3: False\n"
          ]
        }
      ],
      "source": [
        "class BankAccount:\n",
        "    interest_rate = 0.05\n",
        "\n",
        "    def __init__(self, name, account_num, balance=0):\n",
        "        self.__name = name\n",
        "        self.__account_num = account_num\n",
        "        self.__balance = balance\n",
        "\n",
        "    def __str__(self):\n",
        "        return f'이름: {self.__name}, 계좌 번호: {self.__account_num}, 잔액: {self.__balance}'\n",
        "\n",
        "    def deposit(self, money):\n",
        "        self.__balance += money\n",
        "\n",
        "    def withdraw(self, money):\n",
        "        if money <= self.__balance:\n",
        "            self.__balance -= money\n",
        "        else:\n",
        "            print(\"Insufficient balance. Cannot withdraw.\")\n",
        "\n",
        "    def __eq__(self, other):\n",
        "        return self.__name == other.__name\n",
        "\n",
        "# Create two BankAccount objects\n",
        "account1 = BankAccount(\"홍길동\", \"1234-0001\")\n",
        "account2 = BankAccount(\"홍길동\", \"5678-0002\")\n",
        "account3 = BankAccount(\"임꺽정\", \"9012-0003\")\n",
        "\n",
        "# Test the equality operator\n",
        "print(f\"account1 == account2: {account1 == account2}\")  # Should print True\n",
        "print(f\"account1 == account3: {account1 == account3}\")"
      ]
    }
  ],
  "metadata": {
    "kernelspec": {
      "display_name": "Python 3 (ipykernel)",
      "language": "python",
      "name": "python3"
    },
    "language_info": {
      "codemirror_mode": {
        "name": "ipython",
        "version": 3
      },
      "file_extension": ".py",
      "mimetype": "text/x-python",
      "name": "python",
      "nbconvert_exporter": "python",
      "pygments_lexer": "ipython3",
      "version": "3.11.5"
    },
    "colab": {
      "provenance": [],
      "include_colab_link": true
    }
  },
  "nbformat": 4,
  "nbformat_minor": 5
}