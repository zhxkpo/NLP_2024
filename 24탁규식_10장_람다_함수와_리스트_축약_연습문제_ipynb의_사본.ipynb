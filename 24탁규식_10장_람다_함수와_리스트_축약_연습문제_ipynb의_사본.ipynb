{
  "nbformat": 4,
  "nbformat_minor": 0,
  "metadata": {
    "colab": {
      "provenance": [],
      "include_colab_link": true
    },
    "kernelspec": {
      "name": "python3",
      "display_name": "Python 3"
    },
    "language_info": {
      "name": "python"
    }
  },
  "cells": [
    {
      "cell_type": "markdown",
      "metadata": {
        "id": "view-in-github",
        "colab_type": "text"
      },
      "source": [
        "<a href=\"https://colab.research.google.com/github/zhxkpo/NLP_2024/blob/main/24%ED%83%81%EA%B7%9C%EC%8B%9D_10%EC%9E%A5_%EB%9E%8C%EB%8B%A4_%ED%95%A8%EC%88%98%EC%99%80_%EB%A6%AC%EC%8A%A4%ED%8A%B8_%EC%B6%95%EC%95%BD_%EC%97%B0%EC%8A%B5%EB%AC%B8%EC%A0%9C_ipynb%EC%9D%98_%EC%82%AC%EB%B3%B8.ipynb\" target=\"_parent\"><img src=\"https://colab.research.google.com/assets/colab-badge.svg\" alt=\"Open In Colab\"/></a>"
      ]
    },
    {
      "cell_type": "code",
      "execution_count": null,
      "metadata": {
        "id": "cVo071_ABTHO",
        "colab": {
          "base_uri": "https://localhost:8080/"
        },
        "outputId": "06a0d5d6-57d1-4dc5-eba3-eb66a79a49cc"
      },
      "outputs": [
        {
          "output_type": "stream",
          "name": "stdout",
          "text": [
            "[('Half', 4), ('of', 2), ('my', 2), ('heart', 5), ('is', 2), ('in', 2), ('Havana', 6)]\n",
            "[('Half', 4), ('of', 2), ('my', 2), ('heart', 5), ('is', 2), ('in', 2), ('Havana', 6)]\n"
          ]
        }
      ],
      "source": [
        "#10.5\n",
        "lyrics = 'Half of my heart is in Havana'\n",
        "words = lyrics.split()\n",
        "\n",
        "#1)\n",
        "lengths=[]\n",
        "\n",
        "for word in words:\n",
        "    lengths.append((word, len(word)))\n",
        "print(lengths)\n",
        "\n",
        "#2)\n",
        "lengths = [(word, len(word)) for word in words]\n",
        "print(lengths)"
      ]
    },
    {
      "cell_type": "code",
      "source": [
        "#10.6\n",
        "n_list=[44,66,34,24,144,98,38,568,234,345]\n",
        "print(f'n_list = {n_list}')\n",
        "#1)\n",
        "new_list=[]\n",
        "for i in n_list:\n",
        "    if i%12==0:\n",
        "        new_list.append(i)\n",
        "print(f'new_list = {new_list}')\n",
        "#2)\n",
        "new_list=list(filter(lambda x:x%12==0,n_list))\n",
        "print(f'new_list = {new_list}')\n",
        "#3)\n",
        "new_list=list(x for x in n_list if x%12==0)\n",
        "print(f'new_list = {new_list}')"
      ],
      "metadata": {
        "colab": {
          "base_uri": "https://localhost:8080/"
        },
        "id": "42mX4gvUGaTU",
        "outputId": "930ddf30-519a-4ed6-b374-a26ae053cd98"
      },
      "execution_count": null,
      "outputs": [
        {
          "output_type": "stream",
          "name": "stdout",
          "text": [
            "n_list = [44, 66, 34, 24, 144, 98, 38, 568, 234, 345]\n",
            "new_list = [24, 144]\n",
            "new_list = [24, 144]\n",
            "new_list = [24, 144]\n"
          ]
        }
      ]
    },
    {
      "cell_type": "code",
      "source": [
        "#10.9\n",
        "#1)\n",
        "new_list=[]\n",
        "for i in range(1,101):\n",
        "    if i%6==0:\n",
        "        new_list.append(i)\n",
        "print(f'new_list = {new_list}')\n",
        "#2)\n",
        "new_list=list(filter(lambda x:x%6==0,range(1,101)))\n",
        "print(f'new_list = {new_list}')\n",
        "#3)\n",
        "new_list=list(x for x  in range(1,101) if x%6==0)\n",
        "print(f'new_list = {new_list}')"
      ],
      "metadata": {
        "colab": {
          "base_uri": "https://localhost:8080/"
        },
        "id": "_hMZWxmwIlRx",
        "outputId": "8b7fe7c1-699b-41ca-8fa6-16bb42bb725c"
      },
      "execution_count": null,
      "outputs": [
        {
          "output_type": "stream",
          "name": "stdout",
          "text": [
            "new_list = [6, 12, 18, 24, 30, 36, 42, 48, 54, 60, 66, 72, 78, 84, 90, 96]\n",
            "new_list = [6, 12, 18, 24, 30, 36, 42, 48, 54, 60, 66, 72, 78, 84, 90, 96]\n",
            "new_list = [6, 12, 18, 24, 30, 36, 42, 48, 54, 60, 66, 72, 78, 84, 90, 96]\n"
          ]
        }
      ]
    },
    {
      "cell_type": "code",
      "source": [
        "#10.10\n",
        "#1)\n",
        "new_list=[]\n",
        "for i in range(1,101):\n",
        "    if i%6==0:\n",
        "        if i%7==0:\n",
        "            new_list.append(i)\n",
        "print(f'new_list = {new_list}')\n",
        "#2)\n",
        "new_list=list(filter(lambda x:x%6==0 and x%7==0,range(1,101)))\n",
        "print(f'new_list = {new_list}')\n",
        "#3)\n",
        "new_list=list(x for x  in range(1,101) if x%6==0 and x%7==0)\n",
        "print(f'new_list = {new_list}')"
      ],
      "metadata": {
        "colab": {
          "base_uri": "https://localhost:8080/"
        },
        "id": "4eKtXCBSmmN2",
        "outputId": "100561b7-807b-44f5-cb2e-a708161c4df9"
      },
      "execution_count": null,
      "outputs": [
        {
          "output_type": "stream",
          "name": "stdout",
          "text": [
            "new_list = [42, 84]\n",
            "new_list = [42, 84]\n",
            "new_list = [42, 84]\n"
          ]
        }
      ]
    },
    {
      "cell_type": "code",
      "source": [
        "#10.12\n",
        "d_list=['sunday','monday','tuesday','wednesday','thursday','friday','saturday']\n",
        "#1)\n",
        "dd_list=[]\n",
        "for i in d_list:\n",
        "    dd_list.append(i[:3].upper())\n",
        "print(dd_list)\n",
        "#2)\n",
        "dd_list=list(map(lambda x: x[:3].upper(), d_list))\n",
        "print(dd_list)\n",
        "#3)\n",
        "dd_list=list(x[:3].upper() for x in d_list)\n",
        "print(dd_list)"
      ],
      "metadata": {
        "colab": {
          "base_uri": "https://localhost:8080/"
        },
        "id": "4i4M8QyjMOc8",
        "outputId": "127cac7e-9607-40a1-8fca-55d923a21ef7"
      },
      "execution_count": null,
      "outputs": [
        {
          "output_type": "stream",
          "name": "stdout",
          "text": [
            "['SUN', 'MON', 'TUE', 'WED', 'THU', 'FRI', 'SAT']\n",
            "['SUN', 'MON', 'TUE', 'WED', 'THU', 'FRI', 'SAT']\n",
            "['SUN', 'MON', 'TUE', 'WED', 'THU', 'FRI', 'SAT']\n"
          ]
        }
      ]
    },
    {
      "cell_type": "code",
      "source": [
        "#10.13\n",
        "def leap(start,end):\n",
        "    leap_list=[]\n",
        "    for x in range(start,end+1):\n",
        "        if (x%4==0 and x%100!=0)or(x%400==0):\n",
        "            leap_list.append(x)\n",
        "    return leap_list\n",
        "print(f'2001년부터 2030년 사이의 윤년 : {leap(2001,2030)}')\n",
        "#1)\n",
        "leap_list=list(filter(lambda x:(x%4==0 and x%100!=0)or(x%400==0),range(2001,2031)))\n",
        "print(f'2001년부터 2030년 사이의 윤년 : {leap_list}')\n",
        "#2)\n",
        "leap_list=list(x for x in range(2001,2031) if (x%4==0 and x%100!=0) or x%400==0)\n",
        "print(f'2001년부터 2030년 사이의 윤년 : {leap_list}')"
      ],
      "metadata": {
        "colab": {
          "base_uri": "https://localhost:8080/"
        },
        "id": "cT11-sX8Rcql",
        "outputId": "77d3002b-74d1-4f38-fd8b-eca7d3ccd65d"
      },
      "execution_count": null,
      "outputs": [
        {
          "output_type": "stream",
          "name": "stdout",
          "text": [
            "2001년부터 2030년 사이의 윤년 : [2004, 2008, 2012, 2016, 2020, 2024, 2028]\n",
            "2001년부터 2030년 사이의 윤년 : [2004, 2008, 2012, 2016, 2020, 2024, 2028]\n",
            "2001년부터 2030년 사이의 윤년 : [2004, 2008, 2012, 2016, 2020, 2024, 2028]\n"
          ]
        }
      ]
    },
    {
      "cell_type": "code",
      "source": [
        "#10.14\n",
        "fruits={'Apple':'사과','Strawberry':'딸기','Peach':'복숭아','Grape':'포도'}\n",
        "for x,y in fruits.items():\n",
        "    print(x,y)\n",
        "#1)\n",
        "fruits_list = []\n",
        "for key, value in fruits.items():\n",
        "  fruits_list.append(f'{key} = {value}')\n",
        "print(fruits_list)\n",
        "#2)\n",
        "fruits_list=list(map(lambda item:f'{item[0]} = {item[1]}',fruits.items()))\n",
        "print(fruits_list)\n",
        "#3)\n",
        "fruits_list=list(f'{key} = {value}' for key,value in fruits.items())\n",
        "print(fruits_list)"
      ],
      "metadata": {
        "colab": {
          "base_uri": "https://localhost:8080/"
        },
        "id": "tPV2XFcKVa5n",
        "outputId": "d62780d9-55bb-4800-994a-3825f0935c85"
      },
      "execution_count": null,
      "outputs": [
        {
          "output_type": "stream",
          "name": "stdout",
          "text": [
            "Apple 사과\n",
            "Strawberry 딸기\n",
            "Peach 복숭아\n",
            "Grape 포도\n",
            "['Apple = 사과', 'Strawberry = 딸기', 'Peach = 복숭아', 'Grape = 포도']\n",
            "['Apple = 사과', 'Strawberry = 딸기', 'Peach = 복숭아', 'Grape = 포도']\n",
            "['Apple = 사과', 'Strawberry = 딸기', 'Peach = 복숭아', 'Grape = 포도']\n"
          ]
        }
      ]
    },
    {
      "cell_type": "code",
      "source": [
        "#10.17\n",
        "org_list=[8,5,12,34,3,2,97,23,45]\n",
        "print(f'org_list = {org_list}')\n",
        "def partition(alist):\n",
        "    pivot = alist[0]\n",
        "    less_than_pivot = [x for x in alist[1:] if x <= pivot]\n",
        "    greater_than_pivot = [x for x in alist[1:] if x > pivot]\n",
        "    new_list = less_than_pivot + [pivot] + greater_than_pivot\n",
        "    return new_list\n",
        "\n",
        "new_list = partition(org_list)\n",
        "\n",
        "print('partition(org_list)에 의해 정렬된 후의 리스트')\n",
        "print(f'new_list = {new_list}')"
      ],
      "metadata": {
        "id": "INVHug5VYl87",
        "colab": {
          "base_uri": "https://localhost:8080/"
        },
        "outputId": "d77ab407-3cbf-4553-ca6e-0fb52e806bd7"
      },
      "execution_count": null,
      "outputs": [
        {
          "output_type": "stream",
          "name": "stdout",
          "text": [
            "org_list = [8, 5, 12, 34, 3, 2, 97, 23, 45]\n",
            "partition(org_list)에 의해 정렬된 후의 리스트\n",
            "new_list = [5, 3, 2, 8, 12, 34, 97, 23, 45]\n"
          ]
        }
      ]
    },
    {
      "cell_type": "code",
      "source": [
        "#10.19\n",
        "org_list=[[1,2,3,4],[5,6,7,8],[9,10,11,12]]\n",
        "print(f'org_list = {org_list}')\n",
        "#1)\n",
        "def flatten(org_list):\n",
        "    new_list=[]\n",
        "    for i in org_list:\n",
        "        for j in i:\n",
        "            new_list.append(j)\n",
        "    return new_list\n",
        "new_list=flatten(org_list)\n",
        "print(f'new_list = {new_list}')\n",
        "#2)\n",
        "def flatten(org_list):\n",
        "  new_list=[item for sublist in org_list for item in sublist]\n",
        "  return new_list\n",
        "new_list=flatten(org_list)\n",
        "print(f'new_list = {new_list}')"
      ],
      "metadata": {
        "colab": {
          "base_uri": "https://localhost:8080/"
        },
        "id": "HGERw9tVoQBM",
        "outputId": "f3e556db-80e9-4046-a9d4-7d4043025e9e"
      },
      "execution_count": null,
      "outputs": [
        {
          "output_type": "stream",
          "name": "stdout",
          "text": [
            "org_list = [[1, 2, 3, 4], [5, 6, 7, 8], [9, 10, 11, 12]]\n",
            "new_list = [1, 2, 3, 4, 5, 6, 7, 8, 9, 10, 11, 12]\n",
            "new_list = [1, 2, 3, 4, 5, 6, 7, 8, 9, 10, 11, 12]\n"
          ]
        }
      ]
    },
    {
      "cell_type": "code",
      "source": [
        "#10.22\n",
        "scores=[100,90,95,90,80,70,0,80,90,90,0,90,100,75,20,30,50,90]\n",
        "\n",
        "def score_info(alist):\n",
        "    n=len(scores)\n",
        "    div=[scores[i:i + 3] for i in range(0, n, 3)]\n",
        "    t=len(div)\n",
        "    e_sco=[x for x in div if 0 not in x]\n",
        "    print(f'전체 학생 수는 {t}명 입니다.\\n유효 점수 획득 학생의 수는 {len(e_sco)}명 입니다.\\n{e_sco}')\n",
        "\n",
        "score_info(scores)"
      ],
      "metadata": {
        "colab": {
          "base_uri": "https://localhost:8080/"
        },
        "id": "Ci7FZzTSsQCD",
        "outputId": "bca4d5fb-2ac1-4067-fc4c-452544ab3ff2"
      },
      "execution_count": null,
      "outputs": [
        {
          "output_type": "stream",
          "name": "stdout",
          "text": [
            "전체 학생 수는 6명 입니다.\n",
            "유효 점수 획득 학생의 수는 4명 입니다.\n",
            "[[100, 90, 95], [90, 80, 70], [100, 75, 20], [30, 50, 90]]\n"
          ]
        }
      ]
    },
    {
      "cell_type": "code",
      "source": [
        "#10.23\n",
        "def valid_date():\n",
        "    date_str = input('연월일을 .으로 구분하여 입력하세요 (예: 1970.07.02.): ')\n",
        "    date_str = date_str[:-1]\n",
        "    year, month, day = map(int, date_str.split('.'))\n",
        "\n",
        "    leap_list=list(x for x in range(1900,2001) if (x%4==0 and x%100!=0) or x%400==0)\n",
        "\n",
        "    valid=True\n",
        "\n",
        "    if not (1901 <= year <= 2000):\n",
        "        print(\"20세기가 아닙니다.\\n제대로 된 입력이 아닙니다\")\n",
        "        valid=False\n",
        "    if not (1 <= month <= 12):\n",
        "      print(\"잘못된 월입니다.\\n제대로 된 입력이 아닙니다\")\n",
        "      valid=False\n",
        "    if not (1 <= day <= 31):\n",
        "      print(\"잘못된 일입니다.\\n제대로 된 입력이 아닙니다\")\n",
        "      valid=False\n",
        "\n",
        "    if month==2:\n",
        "        if year in leap_list:\n",
        "            if day>29:\n",
        "                print('잘못된 일입니다.\\n제대로 된 입력이 아닙니다')\n",
        "                valid=False\n",
        "        else:\n",
        "            if day>28:\n",
        "                print('잘못된 일입니다.\\n제대로 된 입력이 아닙니다')\n",
        "                valid=False\n",
        "    elif month in [4,6,9,11]:\n",
        "        if day>30:\n",
        "            print('잘못된 일입니다.\\n제대로 된 입력이 아닙니다')\n",
        "            valid=False\n",
        "\n",
        "    if valid:\n",
        "        print('제대로 된 입력입니다.')\n",
        "\n",
        "valid_date()\n",
        "valid_date()\n",
        "valid_date()\n",
        "valid_date()"
      ],
      "metadata": {
        "colab": {
          "base_uri": "https://localhost:8080/"
        },
        "id": "tyByNGv7zIiy",
        "outputId": "858b9216-8f32-44eb-ed07-4c7e3416b943"
      },
      "execution_count": null,
      "outputs": [
        {
          "output_type": "stream",
          "name": "stdout",
          "text": [
            "연월일을 .으로 구분하여 입력하세요 (예: 1970.07.02.): 2019.01.01.\n",
            "20세기가 아닙니다.\n",
            "제대로 된 입력이 아닙니다\n",
            "연월일을 .으로 구분하여 입력하세요 (예: 1970.07.02.): 1999.06.31.\n",
            "잘못된 일입니다.\n",
            "제대로 된 입력이 아닙니다\n",
            "연월일을 .으로 구분하여 입력하세요 (예: 1970.07.02.): 1988.13.31.\n",
            "잘못된 월입니다.\n",
            "제대로 된 입력이 아닙니다\n",
            "연월일을 .으로 구분하여 입력하세요 (예: 1970.07.02.): 1987.10.10.\n",
            "제대로 된 입력입니다.\n"
          ]
        }
      ]
    },
    {
      "cell_type": "code",
      "source": [
        "#10.24\n",
        "a=[(2,5),(1,4),(4,7),(2,3),(2,1)]\n",
        "a1=sorted(a,key=lambda x:(x[0],x[1]))\n",
        "\n",
        "a2=sorted(a,key=lambda x:x[1])\n",
        "\n",
        "print(f'a1 = {a1}')\n",
        "print(f'a2 = {a2}')"
      ],
      "metadata": {
        "id": "AMfqC8XP7ZSU",
        "colab": {
          "base_uri": "https://localhost:8080/"
        },
        "outputId": "8b8de408-ebec-40da-a724-71ec29b7d40c"
      },
      "execution_count": null,
      "outputs": [
        {
          "output_type": "stream",
          "name": "stdout",
          "text": [
            "a1 = [(1, 4), (2, 1), (2, 3), (2, 5), (4, 7)]\n",
            "a2 = [(2, 1), (2, 3), (1, 4), (2, 5), (4, 7)]\n"
          ]
        }
      ]
    }
  ]
}