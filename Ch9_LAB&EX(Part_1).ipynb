{
  "cells": [
    {
      "cell_type": "markdown",
      "metadata": {
        "id": "view-in-github",
        "colab_type": "text"
      },
      "source": [
        "<a href=\"https://colab.research.google.com/github/zhxkpo/NLP_2024/blob/main/Ch9_LAB%26EX(Part_1).ipynb\" target=\"_parent\"><img src=\"https://colab.research.google.com/assets/colab-badge.svg\" alt=\"Open In Colab\"/></a>"
      ]
    },
    {
      "cell_type": "markdown",
      "id": "3dac956a",
      "metadata": {
        "id": "3dac956a"
      },
      "source": [
        "## LAB 9-4 : Dog 클래스와 인스턴스 생성\n",
        "### 1. 다음 기능을 가진 Dog 클래스와 객체를 생성하라.\n",
        "\n",
        "\n",
        "```\n",
        "a) def bark(self): 라는 메소드를 가진다. 이 메소드를 통해 짓는 소리를 출력한다.\n",
        "b) my_dog = Dog() 라는 명령어로 Dog 인스턴스를 생성하고 my_dog로 참조한다.\n",
        "c) my_dog.bark() 라는 메소드로 개짓는 소리를 다음과 같이 출력한다.\n",
        "“멍멍~~”\n",
        "```\n"
      ]
    },
    {
      "cell_type": "code",
      "execution_count": null,
      "id": "d20c571f",
      "metadata": {
        "colab": {
          "base_uri": "https://localhost:8080/"
        },
        "id": "d20c571f",
        "outputId": "ed0b0e84-7b5e-4286-c6ac-0e94dd953d12"
      },
      "outputs": [
        {
          "output_type": "stream",
          "name": "stdout",
          "text": [
            "멍멍~~\n"
          ]
        }
      ],
      "source": [
        "class Dog:\n",
        "  def bark(self):\n",
        "    print('멍멍~~')\n",
        "my_dog = Dog()\n",
        "my_dog.bark()"
      ]
    },
    {
      "cell_type": "markdown",
      "id": "c28086e9",
      "metadata": {
        "id": "c28086e9"
      },
      "source": [
        "## LAB 9-5 : Dog 클래스와 인스턴스 생성\n",
        "### 1. 다음 기능을 가진 Dog 클래스를 생성하고 인스턴스와 메소드를 호출하여라.\n",
        "\n",
        "\n",
        "```\n",
        "a) name 이라는 속성을 가진다.\n",
        "b) def __init__(self, name): 이라는 초기화 메소드를 가진다. 이 메소드를 통해서 이름을 초기화 한다.\n",
        "c) def bark(self): 라는 메소드를 가진다. 이 메소드를 통해 짓는 소리를 출력한다.\n",
        "d) my_dog = Dog('Jindo') 라는 명령어로 my_dog 인스턴스를 생성한다.\n",
        "e) my_dog.bark() 이라는 메소드로 개짓는 소리를 다음과 같이 출력한다.\n",
        "“멍멍~~”\n",
        "```"
      ]
    },
    {
      "cell_type": "code",
      "execution_count": null,
      "id": "8fa51e65",
      "metadata": {
        "colab": {
          "base_uri": "https://localhost:8080/"
        },
        "id": "8fa51e65",
        "outputId": "3f0e7955-26b4-479d-8a57-d72f1fdf77eb"
      },
      "outputs": [
        {
          "output_type": "stream",
          "name": "stdout",
          "text": [
            "멍멍~~\n",
            "멍멍~~\n"
          ]
        }
      ],
      "source": [
        "class Dog:\n",
        "  def __init__(self,name):\n",
        "    self.name=name\n",
        "  def bark(self):\n",
        "    print('멍멍~~')\n",
        "my_dog = Dog('Jindo')\n",
        "my_dog.bark()\n",
        "your_dog=Dog('케로로')\n",
        "your_dog.bark()"
      ]
    },
    {
      "cell_type": "markdown",
      "id": "662f6053",
      "metadata": {
        "id": "662f6053"
      },
      "source": [
        "### - LAB 9-5에서 bark 메소드를 어떤 개가 짖는지 알 수 있도록 수정하라."
      ]
    },
    {
      "cell_type": "code",
      "execution_count": null,
      "id": "3e73c201",
      "metadata": {
        "colab": {
          "base_uri": "https://localhost:8080/"
        },
        "id": "3e73c201",
        "outputId": "52598264-93a9-4126-8041-82ed37494ff4"
      },
      "outputs": [
        {
          "output_type": "stream",
          "name": "stdout",
          "text": [
            "Jindo : 멍멍~~\n",
            "케로로 : 멍멍~~\n"
          ]
        }
      ],
      "source": [
        "class Dog:\n",
        "  def __init__(self,name):\n",
        "    self.name=name\n",
        "  def bark(self):\n",
        "    print(f'{self.name} : 멍멍~~')\n",
        "my_dog = Dog('Jindo')\n",
        "my_dog.bark()\n",
        "your_dog=Dog('케로로')\n",
        "your_dog.bark()"
      ]
    },
    {
      "cell_type": "markdown",
      "id": "9d834dd2",
      "metadata": {
        "id": "9d834dd2"
      },
      "source": [
        "## A1. 원 클래스 정의\n",
        "### 다음 기능을 가진 Circle 클래스를 생성하고 인스턴스와 메소드를 호출하여라.\n",
        "\n",
        "```\n",
        "a) 반지름(radius)을 속성으로 가진다.\n",
        "b) def __init__(self, radius): 이라는 초기화 메소드를 가진다. 이 메소드를 통해서 반지름을 초기화 한다.\n",
        "c) 원의 넓이와 둘레를 반환하는 get_area()와 get_perimeter() 메소드를 정의한다.\n",
        "```\n",
        "---\n",
        "```\n",
        "실행결과\n",
        "원의 면적 314.1592653589793\n",
        "원의 둘레 62.83185307179586\n",
        "```\n"
      ]
    },
    {
      "cell_type": "code",
      "execution_count": null,
      "id": "8ecf2660",
      "metadata": {
        "colab": {
          "base_uri": "https://localhost:8080/"
        },
        "id": "8ecf2660",
        "outputId": "312a4c0c-8617-48c1-8437-15022b1d054d"
      },
      "outputs": [
        {
          "output_type": "stream",
          "name": "stdout",
          "text": [
            "원의 면적 314.1592653589793\n",
            "원의 둘레 62.83185307179586\n"
          ]
        }
      ],
      "source": [
        "import math\n",
        "\n",
        "class Circle:\n",
        "  def __init__(self,radius):\n",
        "    self.radius = radius\n",
        "  def get_area(self):\n",
        "    return math.pi*self.radius**2\n",
        "  def get_perimeter(self):\n",
        "    return math.pi*self.radius*2\n",
        "c_radius=Circle(10)\n",
        "print(f'원의 면적 {c_radius.get_area()}')\n",
        "print(f'원의 둘레 {c_radius.get_perimeter()}')"
      ]
    },
    {
      "cell_type": "markdown",
      "id": "51acd939",
      "metadata": {
        "id": "51acd939"
      },
      "source": [
        "## LAB 9-6 : Dog 클래스와 문자열화 메소드\n",
        "### 1. 다음 기능을 가진 Dog 클래스를 생성하고 인스턴스와 메소드를 호출하여라.\n",
        "\n",
        "\n",
        "```\n",
        "a) name 이라는 속성을 가진다.\n",
        "b) def __init__(self, name): 이라는 초기화 메소드를 가진다. 이 메소드를 통해서 이름을 초기화 한다.\n",
        "c) my_dog = Dog('Jindo') 라는 명령어로 my_dog 인스턴스를 생성한다.\n",
        "d) Dog 클래스의 __str__() 메소드를 정의하여 print('my_dog의 정보 :',my_dog)와\n",
        "   같은 명령문에 대해 다음과 같은 출력이 나타나도록 하여라.\n",
        "호출한 Dog의 정보 : Dog(name = Jindo)\n",
        "```"
      ]
    },
    {
      "cell_type": "code",
      "execution_count": null,
      "id": "6f86ad42",
      "metadata": {
        "colab": {
          "base_uri": "https://localhost:8080/"
        },
        "id": "6f86ad42",
        "outputId": "305316ee-3da6-4bf2-9aa5-b1da5342271e"
      },
      "outputs": [
        {
          "output_type": "stream",
          "name": "stdout",
          "text": [
            "Dog(name = Jindo)\n"
          ]
        }
      ],
      "source": [
        "class Dog:\n",
        "  def __init__(self, name):\n",
        "    self.name=name\n",
        "  def __str__(self):\n",
        "      return 'Dog(name = '+self.name+')'\n",
        "\n",
        "my_dog=Dog('Jindo')\n",
        "print(my_dog)"
      ]
    },
    {
      "cell_type": "markdown",
      "id": "49445ebb",
      "metadata": {
        "id": "49445ebb"
      },
      "source": [
        "## 9.6 다음과 같은 기능을 가지는 클래스를 정의하고, 인스턴스를 생성하여라.\n",
        "* 이름(name)과 나이(age)를 속성으로 가지는 Dog 클래스를 정의하여라.\n",
        "* 이름으로 ‘Mango’, 나이로 3의 값을 가지는 my_dog 인스턴스를 생성하여라.\n",
        "* my_dog의 이름과 나이를 다음과 같이 출력하여라. (직접 인스턴스 변수를 참조하여)\n",
        "---\n",
        "실행 결과\n",
        "\n",
        "\n",
        "```\n",
        "my_dog의 이름은 Mango이고, 나이는 3살입니다.\n",
        "```"
      ]
    },
    {
      "cell_type": "code",
      "execution_count": null,
      "id": "4e3205da",
      "metadata": {
        "colab": {
          "base_uri": "https://localhost:8080/"
        },
        "id": "4e3205da",
        "outputId": "02fc8ae7-81d8-4e55-ac93-c6323f1665f7"
      },
      "outputs": [
        {
          "output_type": "stream",
          "name": "stdout",
          "text": [
            "<__main__.Dog object at 0x7ced86f239d0>\n"
          ]
        }
      ],
      "source": [
        "class Dog:\n",
        "  def __init__(self,name,age):\n",
        "    self.name=name\n",
        "    self.age=age\n",
        "\n",
        "my_dog=Dog('Mango',3)\n",
        "print(f'my_dog의 이름은 {my_dog.name}이고 나이는 {my_dog.age}살입니다.')"
      ]
    },
    {
      "cell_type": "markdown",
      "id": "44ba7e75",
      "metadata": {
        "id": "44ba7e75"
      },
      "source": [
        "## 9.7 9.6 문제에서 정의한 Dog 클래스에 대하여 문자열화 메소드 `__str__()`를 구현하여 `print(my_dog)`의 출력이 다음과 같이 나타나도록 하여라.\n",
        "---\n",
        "실행 결과\n",
        "```\n",
        "이름은 Mango이고, 나이는 3살입니다.\n",
        "```"
      ]
    },
    {
      "cell_type": "code",
      "execution_count": null,
      "id": "9510f158",
      "metadata": {
        "colab": {
          "base_uri": "https://localhost:8080/"
        },
        "id": "9510f158",
        "outputId": "f5f0cc57-8cc3-4b3c-b24f-4778b553cca9"
      },
      "outputs": [
        {
          "output_type": "stream",
          "name": "stdout",
          "text": [
            "이름은 Mango이고, 나이는 3살입니다\n"
          ]
        }
      ],
      "source": [
        "class Dog:\n",
        "  def __init__(self,name,age):\n",
        "    self.name=name\n",
        "    self.age=age\n",
        "  def __str__(self):\n",
        "    return '이름은 '+self.name+'이고, 나이는 '+str(self.age)+'살입니다'\n",
        "\n",
        "my_dog=Dog('Mango',3)\n",
        "print(my_dog)"
      ]
    },
    {
      "cell_type": "markdown",
      "id": "907a84b6",
      "metadata": {
        "id": "907a84b6"
      },
      "source": [
        "## A2. 자동차 클래스 정의\n",
        "\n",
        "### 다음 기능을 가진 Car 클래스를 정의하고, 객체를 생성하여라.\n",
        "\n",
        "```\n",
        "a) 속도(speed), 색상(color), 모델(model)을 속성으로 갖는다.\n",
        "b) def __init__(self, speed, color, model): 이라는 초기화 메소드를 갖는다. 이 메소드를 통해서 속성들을 초기화 한다.\n",
        "c) drive 메소드를 갖는다. 이 메소드가 호출되면 Car 객체의 속도(speed)를 60으로 변경한다.\n",
        "d) Car 객체를 생성한다. 이때, 객체의 속도를 0, 색상을 'Blue', 모델을 'GV80'으로 초기화 하여라.\n",
        "e) print() 함수를 이용하여, 객체의 속성값을 출력하여라.\n",
        "f) drive  메소드를 호출한 뒤, 객체의 speed 속성값을 출력하여라.\n",
        "g) 객체의 속성값을 출력할 수 있도록 __str__() 메소드를 수정하여라.\n",
        "```"
      ]
    },
    {
      "cell_type": "code",
      "execution_count": null,
      "id": "8bc2535b",
      "metadata": {
        "colab": {
          "base_uri": "https://localhost:8080/"
        },
        "id": "8bc2535b",
        "outputId": "8576bab2-6245-4063-fbeb-831466069794"
      },
      "outputs": [
        {
          "output_type": "stream",
          "name": "stdout",
          "text": [
            "speed = 60\n",
            "speed = 60 color = Blue model = CV80\n"
          ]
        }
      ],
      "source": [
        "class Car:\n",
        "  def __init__(self,speed,color,model):\n",
        "    self.speed=speed\n",
        "    self.color=color\n",
        "    self.model=model\n",
        "  def drive(self):\n",
        "    self.speed = 60\n",
        "    print(f'speed = {self.speed}')\n",
        "  def __str__(self):\n",
        "    return 'speed = '+str(self.speed)+' color = '+self.color+' model = '+self.model+''\n",
        "n_car=Car(0,'Blue','CV80')\n",
        "n_car.drive()\n",
        "print(n_car)"
      ]
    }
  ],
  "metadata": {
    "kernelspec": {
      "display_name": "Python 3 (ipykernel)",
      "language": "python",
      "name": "python3"
    },
    "language_info": {
      "codemirror_mode": {
        "name": "ipython",
        "version": 3
      },
      "file_extension": ".py",
      "mimetype": "text/x-python",
      "name": "python",
      "nbconvert_exporter": "python",
      "pygments_lexer": "ipython3",
      "version": "3.10.9"
    },
    "colab": {
      "provenance": [],
      "include_colab_link": true
    }
  },
  "nbformat": 4,
  "nbformat_minor": 5
}