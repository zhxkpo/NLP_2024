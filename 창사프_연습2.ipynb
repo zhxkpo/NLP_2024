{
  "nbformat": 4,
  "nbformat_minor": 0,
  "metadata": {
    "colab": {
      "provenance": [],
      "authorship_tag": "ABX9TyP1sGrpKA6Eo1OYIv030Gl4",
      "include_colab_link": true
    },
    "kernelspec": {
      "name": "python3",
      "display_name": "Python 3"
    },
    "language_info": {
      "name": "python"
    }
  },
  "cells": [
    {
      "cell_type": "markdown",
      "metadata": {
        "id": "view-in-github",
        "colab_type": "text"
      },
      "source": [
        "<a href=\"https://colab.research.google.com/github/zhxkpo/NLP_2024/blob/main/%EC%B0%BD%EC%82%AC%ED%94%84_%EC%97%B0%EC%8A%B52.ipynb\" target=\"_parent\"><img src=\"https://colab.research.google.com/assets/colab-badge.svg\" alt=\"Open In Colab\"/></a>"
      ]
    },
    {
      "cell_type": "code",
      "execution_count": 1,
      "metadata": {
        "id": "7vbdbPjqmMjn",
        "colab": {
          "base_uri": "https://localhost:8080/"
        },
        "outputId": "29b3455a-3700-4c8c-da2e-4da41e5560b5"
      },
      "outputs": [
        {
          "output_type": "stream",
          "name": "stdout",
          "text": [
            "숫자1 : 26\n",
            "숫자2 : 3\n",
            "26 / 3 = 8.666666666666666\n",
            "26 // 3 = 8\n",
            "26 % 3 = 2\n"
          ]
        }
      ],
      "source": [
        "#1\n",
        "a=int(input('숫자1 : '))\n",
        "b=int(input('숫자2 : '))\n",
        "print(a,'/',b,'=',a/b)\n",
        "print(a,'//',b,'=',a//b)\n",
        "print(a,'%',b,'=',a%b)"
      ]
    },
    {
      "cell_type": "code",
      "source": [
        "#2\n",
        "print(3+4/2+1)\n",
        "print((1+2)/(2+4))\n",
        "print((3*2)/(4-2/3))"
      ],
      "metadata": {
        "colab": {
          "base_uri": "https://localhost:8080/"
        },
        "id": "p83fE-BAJPMA",
        "outputId": "77bd0d37-5cc0-4808-d4c5-9b7dc715dca8"
      },
      "execution_count": 3,
      "outputs": [
        {
          "output_type": "stream",
          "name": "stdout",
          "text": [
            "6.0\n",
            "0.5\n",
            "1.7999999999999998\n"
          ]
        }
      ]
    },
    {
      "cell_type": "code",
      "source": [
        "#3\n",
        "sco1=int(input('국어 : '))\n",
        "sco2=int(input('영어 : '))\n",
        "sco3=int(input('수학 : '))\n",
        "print('총점 :',sco1+sco2+sco3)\n",
        "print('평균 :',(sco1+sco2+sco3)/3)"
      ],
      "metadata": {
        "colab": {
          "base_uri": "https://localhost:8080/"
        },
        "id": "JhL6nXN5Jo5T",
        "outputId": "5e60a7ec-5746-4091-859b-ea3367b6d9b5"
      },
      "execution_count": 6,
      "outputs": [
        {
          "output_type": "stream",
          "name": "stdout",
          "text": [
            "국어 : 100\n",
            "영어 : 90\n",
            "수학 : 80\n",
            "총점 : 270\n",
            "평균 : 90.0\n"
          ]
        }
      ]
    },
    {
      "cell_type": "code",
      "source": [
        "#4\n",
        "print('아버지의 나이 =',38-5)\n",
        "print('어머니의 나이 =',34-5)"
      ],
      "metadata": {
        "colab": {
          "base_uri": "https://localhost:8080/"
        },
        "id": "7I1CABSWJ81_",
        "outputId": "ef09dbb1-b9a1-4c70-d264-f4c129031b5c"
      },
      "execution_count": 7,
      "outputs": [
        {
          "output_type": "stream",
          "name": "stdout",
          "text": [
            "아버지의 나이 = 33\n",
            "어머니의 나이 = 29\n"
          ]
        }
      ]
    },
    {
      "cell_type": "code",
      "source": [
        "#5\n",
        "import math\n",
        "radius=int(input('반지름 : '))\n",
        "print('원의 넓이 :',radius*radius*math.pi)\n",
        "print('원의 둘레 :',radius*2*math.pi)"
      ],
      "metadata": {
        "colab": {
          "base_uri": "https://localhost:8080/"
        },
        "id": "nPVu8LC8LA7I",
        "outputId": "53f189d7-e5e3-4498-dc85-d9198b652bfd"
      },
      "execution_count": 8,
      "outputs": [
        {
          "output_type": "stream",
          "name": "stdout",
          "text": [
            "반지름 : 10\n",
            "원의 넓이 : 314.1592653589793\n",
            "원의 둘레 : 62.83185307179586\n"
          ]
        }
      ]
    },
    {
      "cell_type": "code",
      "source": [
        "#6\n",
        "top=int(input('윗변 : '))\n",
        "bottom=int(input('밑변 : '))\n",
        "height=int(input('높이 : '))\n",
        "print('사다리꼴의 넓이 :',(top+bottom)*height/2)"
      ],
      "metadata": {
        "colab": {
          "base_uri": "https://localhost:8080/"
        },
        "id": "R_xAqVGOLpzR",
        "outputId": "9fbae4bc-846d-4014-fa0c-e6ddf40477d5"
      },
      "execution_count": 9,
      "outputs": [
        {
          "output_type": "stream",
          "name": "stdout",
          "text": [
            "윗변 : 6\n",
            "밑변 : 8\n",
            "높이 : 4\n",
            "사다리꼴의 넓이 : 28.0\n"
          ]
        }
      ]
    },
    {
      "cell_type": "code",
      "source": [
        "#7\n",
        "minute=int(input('분 : '))\n",
        "print(minute*60,'초')"
      ],
      "metadata": {
        "colab": {
          "base_uri": "https://localhost:8080/"
        },
        "id": "CURw_D4iMP51",
        "outputId": "03494e28-323d-404e-9dc3-e2aa17c701ea"
      },
      "execution_count": 10,
      "outputs": [
        {
          "output_type": "stream",
          "name": "stdout",
          "text": [
            "분 : 12\n",
            "720 초\n"
          ]
        }
      ]
    },
    {
      "cell_type": "code",
      "source": [
        "#8\n",
        "sec=int(input('초 : '))\n",
        "print(sec,'초 =',sec//60,'분',sec%60,'초')"
      ],
      "metadata": {
        "colab": {
          "base_uri": "https://localhost:8080/"
        },
        "id": "zK69bIOmM7oK",
        "outputId": "8bc5d96f-9e16-470c-8956-5c24a9eb4a4b"
      },
      "execution_count": 13,
      "outputs": [
        {
          "output_type": "stream",
          "name": "stdout",
          "text": [
            "초 : 345\n",
            "345 초 = 5 분 45 초\n"
          ]
        }
      ]
    },
    {
      "cell_type": "code",
      "source": [
        "#9\n",
        "second=int(input('초 : '))\n",
        "print(second*3.4,'m')"
      ],
      "metadata": {
        "colab": {
          "base_uri": "https://localhost:8080/"
        },
        "id": "taY13H3cNDLy",
        "outputId": "b9062ac0-d314-495f-91ec-f8e793445561"
      },
      "execution_count": 15,
      "outputs": [
        {
          "output_type": "stream",
          "name": "stdout",
          "text": [
            "초 : 10\n",
            "34.0 m\n"
          ]
        }
      ]
    },
    {
      "cell_type": "code",
      "source": [
        "#10\n",
        "a=float(input('1초당 움직이는 거리 : '))\n",
        "print('시속 :',a*(60*60),'m/h')\n",
        "print('시속 :',a*(60*60)/1000,'km/h')"
      ],
      "metadata": {
        "colab": {
          "base_uri": "https://localhost:8080/"
        },
        "id": "whSGkdpqNx4_",
        "outputId": "a0997d1f-9c1f-4faf-c10a-5a782bc29465"
      },
      "execution_count": 16,
      "outputs": [
        {
          "output_type": "stream",
          "name": "stdout",
          "text": [
            "1초당 움직이는 거리 : 3.4\n",
            "시속 : 12240.0 m/h\n",
            "시속 : 12.24 km/h\n"
          ]
        }
      ]
    },
    {
      "cell_type": "code",
      "source": [
        "#11\n",
        "inch=int(input('인치 : '))\n",
        "print(inch,'인치','=',inch*2.54,'센티미터')"
      ],
      "metadata": {
        "colab": {
          "base_uri": "https://localhost:8080/"
        },
        "id": "4mnZJHQBOjJ_",
        "outputId": "7d5efd0a-c11c-4151-8e48-1712e61604dd"
      },
      "execution_count": 17,
      "outputs": [
        {
          "output_type": "stream",
          "name": "stdout",
          "text": [
            "인치 : 10\n",
            "10 인치 = 25.4 센티미터\n"
          ]
        }
      ]
    },
    {
      "cell_type": "code",
      "source": [
        "#12\n",
        "cm=int(input('센티미터 : '))\n",
        "print(cm,'센티미터 =',cm*0.39370,'인치')"
      ],
      "metadata": {
        "colab": {
          "base_uri": "https://localhost:8080/"
        },
        "id": "w1uRIFSCPNVZ",
        "outputId": "fc7ec0bc-17aa-4395-becc-dbe76e0e4bae"
      },
      "execution_count": 18,
      "outputs": [
        {
          "output_type": "stream",
          "name": "stdout",
          "text": [
            "센티미터 : 30\n",
            "30 센티미터 = 11.811 인치\n"
          ]
        }
      ]
    },
    {
      "cell_type": "code",
      "source": [
        "#13\n",
        "a=int(input('닭 : '))\n",
        "b=int(input('토끼 : '))\n",
        "c=int(input('돼지 : '))\n",
        "print('다리 합계 :',a*2+b*4+c*4)"
      ],
      "metadata": {
        "colab": {
          "base_uri": "https://localhost:8080/"
        },
        "id": "cmWVNfPQPveB",
        "outputId": "f2bd1e88-2bd3-4b81-dbc8-1ed1e4a72ac4"
      },
      "execution_count": 20,
      "outputs": [
        {
          "output_type": "stream",
          "name": "stdout",
          "text": [
            "닭 : 12\n",
            "토끼 : 8\n",
            "돼지 : 14\n",
            "다리 합계 : 112\n"
          ]
        }
      ]
    },
    {
      "cell_type": "code",
      "source": [
        "#14\n",
        "a=int(input('경과 연수 :'))\n",
        "print('1 년 총지출 =',365*4500,'원')\n",
        "print(a,'년 총지출 =',365*a*4500,'원')"
      ],
      "metadata": {
        "colab": {
          "base_uri": "https://localhost:8080/"
        },
        "id": "omZ9rxPwQex2",
        "outputId": "f963513d-a8dd-4fe2-b29a-ba35887f5db2"
      },
      "execution_count": 21,
      "outputs": [
        {
          "output_type": "stream",
          "name": "stdout",
          "text": [
            "경과 연수 :30\n",
            "1 년 총지출 = 1642500 원\n",
            "30 년 총지출 = 49275000 원\n"
          ]
        }
      ]
    }
  ]
}