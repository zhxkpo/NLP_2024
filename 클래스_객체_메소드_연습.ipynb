{
  "nbformat": 4,
  "nbformat_minor": 0,
  "metadata": {
    "colab": {
      "provenance": [],
      "authorship_tag": "ABX9TyOeWG6VxlzBffa3uNpgm7ha",
      "include_colab_link": true
    },
    "kernelspec": {
      "name": "python3",
      "display_name": "Python 3"
    },
    "language_info": {
      "name": "python"
    }
  },
  "cells": [
    {
      "cell_type": "markdown",
      "metadata": {
        "id": "view-in-github",
        "colab_type": "text"
      },
      "source": [
        "<a href=\"https://colab.research.google.com/github/zhxkpo/NLP_2024/blob/main/%ED%81%B4%EB%9E%98%EC%8A%A4_%EA%B0%9D%EC%B2%B4_%EB%A9%94%EC%86%8C%EB%93%9C_%EC%97%B0%EC%8A%B5.ipynb\" target=\"_parent\"><img src=\"https://colab.research.google.com/assets/colab-badge.svg\" alt=\"Open In Colab\"/></a>"
      ]
    },
    {
      "cell_type": "code",
      "execution_count": null,
      "metadata": {
        "id": "sjy4zJt1ICDz"
      },
      "outputs": [],
      "source": [
        "#쇼핑앱의 예시 클래스4개(1개당 객체 3개, 메소드 3개씩 해보기)\n",
        "class User:\n",
        "  def __init__(self,name,user_id,email)\n",
        "\n",
        "class Item:\n",
        "  def __init__(self,item_id,price)\n",
        "\n",
        "class Order:\n",
        "  def __init__(self,items,)\n",
        "\n",
        "class cart:\n",
        "  def __init__(self,items)"
      ]
    }
  ]
}