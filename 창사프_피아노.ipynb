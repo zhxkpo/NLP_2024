{
  "nbformat": 4,
  "nbformat_minor": 0,
  "metadata": {
    "colab": {
      "provenance": [],
      "authorship_tag": "ABX9TyMXDjhvr7H6ViRG2vQ0bDPE",
      "include_colab_link": true
    },
    "kernelspec": {
      "name": "python3",
      "display_name": "Python 3"
    },
    "language_info": {
      "name": "python"
    }
  },
  "cells": [
    {
      "cell_type": "markdown",
      "metadata": {
        "id": "view-in-github",
        "colab_type": "text"
      },
      "source": [
        "<a href=\"https://colab.research.google.com/github/zhxkpo/NLP_2024/blob/main/%EC%B0%BD%EC%82%AC%ED%94%84_%ED%94%BC%EC%95%84%EB%85%B8.ipynb\" target=\"_parent\"><img src=\"https://colab.research.google.com/assets/colab-badge.svg\" alt=\"Open In Colab\"/></a>"
      ]
    },
    {
      "cell_type": "code",
      "execution_count": null,
      "metadata": {
        "id": "Aqe1fThbsmuL"
      },
      "outputs": [],
      "source": [
        "import turtle as t\n",
        "from winsound import Beep\n",
        "\n",
        "freq={\"c4\":262,\"d4\":294,\"e4\":330,\"f4\":349,\"g4\":392,\"a4\":440,\"b4\":494,\"c5\":523,\"d5\":587}\n",
        "\n",
        "def play_freq(n):\n",
        "    Beep(freq[n],300)\n",
        "\n",
        "def key_1():\n",
        "    play_freq(\"c4\")\n",
        "def key_2():\n",
        "    play_freq(\"d4\")\n",
        "def key_3():\n",
        "    play_freq(\"e4\")\n",
        "def key_4():\n",
        "    play_freq(\"f4\")\n",
        "def key_5():\n",
        "    play_freq(\"g4\")\n",
        "def key_6():\n",
        "    play_freq(\"a4\")\n",
        "def key_7():\n",
        "    play_freq(\"b4\")\n",
        "def key_8():\n",
        "    play_freq(\"c5\")\n",
        "def key_9():\n",
        "    play_freq(\"d5\")\n",
        "\n",
        "t.setup(600,600)\n",
        "s=t.Screen()\n",
        "\n",
        "s.onkey(key_1,\"1\")\n",
        "s.onkey(key_2,\"2\")\n",
        "s.onkey(key_3,\"3\")\n",
        "s.onkey(key_4,\"4\")\n",
        "s.onkey(key_5,\"5\")\n",
        "s.onkey(key_6,\"6\")\n",
        "s.onkey(key_7,\"7\")\n",
        "s.onkey(key_8,\"8\")\n",
        "s.onkey(key_9,\"9\")\n",
        "s.listen()\n"
      ]
    }
  ]
}