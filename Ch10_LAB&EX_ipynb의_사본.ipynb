{
  "cells": [
    {
      "cell_type": "markdown",
      "metadata": {
        "id": "view-in-github",
        "colab_type": "text"
      },
      "source": [
        "<a href=\"https://colab.research.google.com/github/zhxkpo/NLP_2024/blob/main/Ch10_LAB%26EX_ipynb%EC%9D%98_%EC%82%AC%EB%B3%B8.ipynb\" target=\"_parent\"><img src=\"https://colab.research.google.com/assets/colab-badge.svg\" alt=\"Open In Colab\"/></a>"
      ]
    },
    {
      "cell_type": "markdown",
      "metadata": {
        "id": "oiD_u0BVqbyu"
      },
      "source": [
        "## EX 10.2 다음 주석을 참고하여 코드에서 잘못된 부분을 찾아서 고치시오. 오류가 발생한 이유를 적고 이를 수정하시오.\n",
        "---\n",
        "(1)\n",
        "```\n",
        ">>> f = lambda x : x * x      # x의 제곱을 반환하는 람다 함수\n",
        ">>> f(10, 10)\n",
        "```\n",
        "(2)\n",
        "```\n",
        ">>> f = lambda x, y : x + y  # x와 y의 합을 반환하는 람다 함수\n",
        ">>> f(10)\n",
        "```\n",
        "(3)\n",
        "```\n",
        ">>> f = lambda x, y : z = 100, x + y + z # x, y, z의 합을 반환하는 람다 함수\n",
        ">>> f(10, 20)\n",
        "```\n",
        "\n",
        "\n",
        "\n"
      ]
    },
    {
      "cell_type": "code",
      "source": [
        "f = lambda x : x * x      # x의 제곱을 반환하는 람다 함수\n",
        "f(10)\n",
        "\n",
        "f = lambda x, y : x + y  # x와 y의 합을 반환하는 람다 함수\n",
        "f(10,10)\n",
        "\n",
        "f = lambda x, y, z: x + y + z # x, y, z의 합을 반환하는 람다 함수\n",
        "f(10, 20, 30)"
      ],
      "metadata": {
        "colab": {
          "base_uri": "https://localhost:8080/"
        },
        "id": "-lch4UOOs-fz",
        "outputId": "1a3e9fab-d9af-4a9c-9207-84ab62d2a3fd"
      },
      "execution_count": null,
      "outputs": [
        {
          "output_type": "execute_result",
          "data": {
            "text/plain": [
              "60"
            ]
          },
          "metadata": {},
          "execution_count": 35
        }
      ]
    },
    {
      "cell_type": "markdown",
      "metadata": {
        "id": "ON0P-PQ39Wwj"
      },
      "source": [
        "## LAB 10-1 : 일반 함수와 람다 함수의 정의와 호출\n",
        "### 1. 두 수의 차를 구하여 반환하는 sub라는 이름의 함수를 정의하여 호출하여라. sub(200, 100)을 이용하여 함수를 호출하고 그 반환 값을 다음과 같이 출력하여라.\n",
        "\n",
        "```\n",
        "200 - 100 = 100\n",
        "```\n",
        "\n"
      ]
    },
    {
      "cell_type": "code",
      "execution_count": null,
      "metadata": {
        "colab": {
          "base_uri": "https://localhost:8080/"
        },
        "id": "7lNCzSvYqbyv",
        "outputId": "fb92953f-7c33-45f3-c826-87a5c664b179"
      },
      "outputs": [
        {
          "output_type": "stream",
          "name": "stdout",
          "text": [
            "100\n"
          ]
        }
      ],
      "source": [
        "def sub(a,b):\n",
        "    return a-b\n",
        "print(sub(200,100))"
      ]
    },
    {
      "cell_type": "markdown",
      "metadata": {
        "id": "5DyLTMgi91Ob"
      },
      "source": [
        "### 2. 1번 문제에서 정의한 sub() 함수를 람다 함수를 이용하여 구현하여라. 그리고 그 반환 값을 다음과 같이 출력하여라.\n",
        "```\n",
        "200 - 100 = 100\n",
        "```\n"
      ]
    },
    {
      "cell_type": "code",
      "execution_count": null,
      "metadata": {
        "colab": {
          "base_uri": "https://localhost:8080/"
        },
        "id": "Bq7UZgMjqbyv",
        "outputId": "5f4417ad-9808-48d5-edb0-2881caa7f8dd"
      },
      "outputs": [
        {
          "output_type": "stream",
          "name": "stdout",
          "text": [
            "100\n"
          ]
        }
      ],
      "source": [
        "print((lambda x,y:x-y)(200,100))"
      ]
    },
    {
      "cell_type": "markdown",
      "metadata": {
        "id": "1NYYGq3b-nG-"
      },
      "source": [
        "## LAB 10-2 : 람다 함수의 응용\n",
        "### 1. 정수 원소 값을 가진 n_list = [1, 2, 3, 4, 5, 6, 7, 8, 9, 10]라는 리스트가 있다. n_list에서 짝수 값 항목만을 가진 even_list라는 리스트를 filter함수와 lambda 함수를 이용하여 아래와 같이 생성해 보자.\n",
        "\n",
        "\n",
        "```\n",
        "even_list = [2, 4, 6, 8, 10]\n",
        "```\n"
      ]
    },
    {
      "cell_type": "code",
      "execution_count": null,
      "metadata": {
        "colab": {
          "base_uri": "https://localhost:8080/"
        },
        "id": "QIal9W-aqbyw",
        "outputId": "150a377d-fc46-4398-dd59-7a8687847d14"
      },
      "outputs": [
        {
          "output_type": "stream",
          "name": "stdout",
          "text": [
            "even_list = [2, 4, 6, 8, 10]\n"
          ]
        }
      ],
      "source": [
        "n_list = [1, 2, 3, 4, 5, 6, 7, 8, 9, 10]\n",
        "even_list=list(filter(lambda a:a%2==0,n_list))\n",
        "print(f'even_list = {even_list}')"
      ]
    },
    {
      "cell_type": "markdown",
      "metadata": {
        "id": "uD8kBirVANTV"
      },
      "source": [
        "### 2. 1번 문제에서 사용한 n_list 리스트에 filter함수와 lambda함수를 이용하여 홀수 값 항목만을 가진 다음과 같은 odd_list를 생성해 보자.\n",
        "\n",
        "```\n",
        "odd_list = [1, 3, 5, 7, 9]\n",
        "```\n"
      ]
    },
    {
      "cell_type": "code",
      "execution_count": null,
      "metadata": {
        "colab": {
          "base_uri": "https://localhost:8080/"
        },
        "id": "lDn_VeDYqbyw",
        "outputId": "941c75ef-4513-4ea8-ccab-62d2bcfdc136"
      },
      "outputs": [
        {
          "output_type": "stream",
          "name": "stdout",
          "text": [
            "odd_list = [1, 3, 5, 7, 9]\n"
          ]
        }
      ],
      "source": [
        "odd_list=list(filter(lambda a:a%2==1,n_list))\n",
        "print(f'odd_list = {odd_list}')"
      ]
    },
    {
      "cell_type": "markdown",
      "metadata": {
        "id": "7wk3TLYxJSH0"
      },
      "source": [
        "## LAB 10-3 : map() 함수의 응용\n",
        "### 1. [‘a’, ‘b’, ‘c’, ‘d’]와 같은 영문 소문자가 들어있는 a_list라는 이름의 리스트를 [‘A’, ‘B’, ‘C’, ‘D’]와 같이 영문 대문자가 들어있는 upper_a_list라는 이름의 리스트로 변환시키는 map() 함수를 작성하여라.\n",
        "\n",
        "\n",
        "```\n",
        "upper_a_list = ['A', 'B', 'C', 'D']\n",
        "```\n",
        "\n",
        "\n",
        "1) 이때 소문자를 매개변수로 받아 대문자를 반환하는 to_upper()라는 이름의 함수를 정의하여 변환시키시오."
      ]
    },
    {
      "cell_type": "code",
      "execution_count": null,
      "metadata": {
        "colab": {
          "base_uri": "https://localhost:8080/"
        },
        "id": "BKEVu-ZRqbyw",
        "outputId": "f1385df0-173a-469e-f48d-5f2285c8e7c4"
      },
      "outputs": [
        {
          "output_type": "stream",
          "name": "stdout",
          "text": [
            "['A', 'B', 'C', 'D']\n"
          ]
        }
      ],
      "source": [
        "a_list = ['a', 'b', 'c', 'd']\n",
        "\n",
        "def to_upper(x):\n",
        "  return x.upper()\n",
        "\n",
        "upper_a_list = list(map(to_upper, a_list))\n",
        "print(upper_a_list)"
      ]
    },
    {
      "cell_type": "markdown",
      "metadata": {
        "id": "Mtkemz3aKct9"
      },
      "source": [
        "2) 1)에서 생성한 to_upper() 함수를 lambda 함수로 고쳐서 간결하게 변환시키시오(힌트 : str의 upper() 메소드를 사용해 보시오.)."
      ]
    },
    {
      "cell_type": "code",
      "execution_count": null,
      "metadata": {
        "colab": {
          "base_uri": "https://localhost:8080/"
        },
        "id": "s0dZ1-QOqbyw",
        "outputId": "7932b735-8d42-4e3e-9c70-a766774d8b5a"
      },
      "outputs": [
        {
          "output_type": "stream",
          "name": "stdout",
          "text": [
            "['A', 'B', 'C', 'D']\n"
          ]
        }
      ],
      "source": [
        "upper_a_list = list(map(lambda x: x.upper(), a_list))\n",
        "print(upper_a_list)"
      ]
    },
    {
      "cell_type": "markdown",
      "metadata": {
        "id": "Hxt-j9LjLWqz"
      },
      "source": [
        "### 2. [10, 20, 30]과 같은 값을 가진 n_list라는 이름의 리스트를 map() 함수에 넣은 후의 결과는 각각 다음과 같다.\n",
        "\n",
        "```\n",
        "입력 값의 두 배 : [20, 40, 60]\n",
        "입력 값의 세 배 : [30, 60, 90]\n",
        "```\n",
        "\n",
        "1) twice()와 triple()이라는 이름의 함수를 만들어서 각각 입력 값의 2개와 3배 큰 값을 반환하도록 하시오. 그리고 map() 함수를 이용하여 위의 결과와 같이 나오도록 하시오."
      ]
    },
    {
      "cell_type": "code",
      "execution_count": null,
      "metadata": {
        "colab": {
          "base_uri": "https://localhost:8080/"
        },
        "id": "Er5L1rBXqbyw",
        "outputId": "b3139a47-0a75-4979-eb14-4b020f876bcd"
      },
      "outputs": [
        {
          "output_type": "stream",
          "name": "stdout",
          "text": [
            "입력 값의 두 배 : [20, 40, 60]\n",
            "입력 값의 세 배 : [30, 60, 90]\n"
          ]
        }
      ],
      "source": [
        "n_list = [10, 20, 30]\n",
        "def twice(x):\n",
        "    return x*2\n",
        "\n",
        "def triple(x):\n",
        "    return x*3\n",
        "\n",
        "twice_list=list(map(twice,n_list))\n",
        "print(f'입력 값의 두 배 : {twice_list}')\n",
        "triple_list=list(map(triple,n_list))\n",
        "print(f'입력 값의 세 배 : {triple_list}')"
      ]
    },
    {
      "cell_type": "code",
      "execution_count": null,
      "metadata": {
        "id": "KzJypOmbqbyx"
      },
      "outputs": [],
      "source": []
    },
    {
      "cell_type": "markdown",
      "metadata": {
        "id": "grTkuoxSlFui"
      },
      "source": [
        "2) twice()와 triple() 함수를 lambda 함수로 고쳐서 간결하게 변환시키시오."
      ]
    },
    {
      "cell_type": "code",
      "execution_count": null,
      "metadata": {
        "colab": {
          "base_uri": "https://localhost:8080/"
        },
        "id": "S-VAfanWqbyx",
        "outputId": "a82d94c7-30ba-4403-9589-ddc9cff6114e"
      },
      "outputs": [
        {
          "output_type": "stream",
          "name": "stdout",
          "text": [
            "입력 값의 두 배 : [20, 40, 60]\n",
            "입력 값의 세 배 : [30, 60, 90]\n"
          ]
        }
      ],
      "source": [
        "twice_list=list(map(lambda x:x*2,n_list))\n",
        "print(f'입력 값의 두 배 : {twice_list}')\n",
        "triple_list=list(map(lambda x:x*3,n_list))\n",
        "print(f'입력 값의 세 배 : {triple_list}')"
      ]
    },
    {
      "cell_type": "markdown",
      "metadata": {
        "id": "yh0WD2RkUWz6"
      },
      "source": [
        "## LAB 10-6 : 리스트의 축약기능과 조건식\n",
        "### 1. 리스트 축약기능을 이용하여 1에서 10사이 정수의 세제곱 값 중에서 500 이하인 값만을 가진 cubic 리스트를 다음과 같이 생성하여라.\n",
        "\n",
        "```\n",
        "cubic = [1, 8, 27, 64, 125, 216, 343]\n",
        "```"
      ]
    },
    {
      "cell_type": "code",
      "execution_count": null,
      "metadata": {
        "colab": {
          "base_uri": "https://localhost:8080/"
        },
        "id": "wQvF-ErAqbyx",
        "outputId": "801c409f-8aac-46f5-87d3-903bd3cab2f5"
      },
      "outputs": [
        {
          "output_type": "stream",
          "name": "stdout",
          "text": [
            "cubic = [1, 8, 27, 64, 125, 216, 343]\n"
          ]
        }
      ],
      "source": [
        "cubic=list(x**3 for x in range(1,11) if x**3<=500)\n",
        "print(f'cubic = {cubic}')"
      ]
    },
    {
      "cell_type": "markdown",
      "metadata": {
        "id": "SBL9XVtcoJ1R"
      },
      "source": [
        "### 2. st = 'Hello 1234 Python'라는 문자열이 있다. 리스트 축약기능과 조건식을 사용하여 이 문자열로부터 ['1', '2', '3', '4']를 추출하여 다음과 같이 출력하여라(힌트 : isdigit() 메소드를 사용함).\n",
        "\n",
        "```\n",
        "['1', '2', '3', '4']\n",
        "```"
      ]
    },
    {
      "cell_type": "code",
      "execution_count": null,
      "metadata": {
        "colab": {
          "base_uri": "https://localhost:8080/"
        },
        "id": "-GascA1yqbyx",
        "outputId": "2656332b-5aff-49cb-f672-7df96a655d2b"
      },
      "outputs": [
        {
          "output_type": "stream",
          "name": "stdout",
          "text": [
            "['1', '2', '3', '4']\n"
          ]
        }
      ],
      "source": [
        "st = 'Hello 1234 Python'\n",
        "result=list(x for x in st if x.isdigit())\n",
        "print(result)"
      ]
    },
    {
      "cell_type": "markdown",
      "metadata": {
        "id": "fQbDppTMqbyx"
      },
      "source": [
        "## EX 10.3 다음과 같은 세 개의 튜플을 가진 person 리스트가 있다고 가정해 보자.\n",
        "---\n",
        "```\n",
        "persons = [('GilDong', 'Hong', 27), ('SunSin', 'Lee', 46), ('YuSin', 'Gim', 34)]  \n",
        "```\n",
        "##  이 리스트의 항목을 나이순 & first name순으로 정렬해보자."
      ]
    },
    {
      "cell_type": "code",
      "execution_count": null,
      "metadata": {
        "id": "OhBB5rg5qbyx"
      },
      "outputs": [],
      "source": []
    },
    {
      "cell_type": "markdown",
      "metadata": {
        "id": "TPeRWzVvqbyx"
      },
      "source": [
        "## EX 10.4 다음과 같은 문장으로 된 lyrics라는 문자열이 있다. 이 문자열을 각 단어별로 구분한 후, 아래 실행 결과와 같이 이 단어와 이 단어에 대한 대문자 튜플 쌍으로 바꾸어 출력하여라.   \n",
        "---\n",
        "```\n",
        "lyrics = 'Half of my heart is in Havana'\n",
        "```\n",
        "---\n",
        "실행 결과\n",
        "```\n",
        "[('Half', 4), ('of', 2), ('my', 2), ('heart', 5), ('is', 2), ('in', 2), ('Havana', 6)]\n",
        "```\n",
        "### 1) lyrics라는 문자열을 split() 메소드로 구분하여 각 단어를 추출한 후 for문 안에서 각 단어에 대한 upper() 메소드를 적용하여 구현하시오."
      ]
    },
    {
      "cell_type": "code",
      "execution_count": null,
      "metadata": {
        "id": "bY48cSTmqbyx"
      },
      "outputs": [],
      "source": []
    },
    {
      "cell_type": "markdown",
      "metadata": {
        "id": "lS9jpIUWqbyx"
      },
      "source": [
        "### 2) 1)과 동일한 내용을 리스트 축약표현을 사용하여 구현하시오."
      ]
    },
    {
      "cell_type": "code",
      "execution_count": null,
      "metadata": {
        "id": "DNrOHlvIqbyx"
      },
      "outputs": [],
      "source": []
    },
    {
      "cell_type": "markdown",
      "metadata": {
        "id": "cDpd-komqbyx"
      },
      "source": [
        "### A1. 삼각형의 한 변의 길이가 1 이상 30 이하의 정수일 때, 피타고라스의 정리를 만족하는 삼각형을 찾아 리스트로 만들어보자. 리스트 축약을 사용하고, 조건을 만족하는 각 삼각형의 세변의 길이는 튜플로 나타내어라."
      ]
    },
    {
      "cell_type": "code",
      "execution_count": null,
      "metadata": {
        "id": "smnbPTHPqbyx"
      },
      "outputs": [],
      "source": []
    },
    {
      "cell_type": "markdown",
      "metadata": {
        "id": "Ef_KwzcMqbyx"
      },
      "source": [
        "### For more information refer to the following page\n",
        "\n",
        "- str.isdigit() 메소드: https://blockdmask.tistory.com/556  \n",
        "- 정렬(sorting): https://docs.python.org/ko/3/howto/sorting.html\n"
      ]
    }
  ],
  "metadata": {
    "colab": {
      "provenance": [],
      "include_colab_link": true
    },
    "kernelspec": {
      "display_name": "Python 3 (ipykernel)",
      "language": "python",
      "name": "python3"
    },
    "language_info": {
      "codemirror_mode": {
        "name": "ipython",
        "version": 3
      },
      "file_extension": ".py",
      "mimetype": "text/x-python",
      "name": "python",
      "nbconvert_exporter": "python",
      "pygments_lexer": "ipython3",
      "version": "3.11.5"
    }
  },
  "nbformat": 4,
  "nbformat_minor": 0
}