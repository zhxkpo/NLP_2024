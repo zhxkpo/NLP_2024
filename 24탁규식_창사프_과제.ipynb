{
  "nbformat": 4,
  "nbformat_minor": 0,
  "metadata": {
    "colab": {
      "provenance": [],
      "authorship_tag": "ABX9TyPQ0OCawG75vhuyYVuXSmaO",
      "include_colab_link": true
    },
    "kernelspec": {
      "name": "python3",
      "display_name": "Python 3"
    },
    "language_info": {
      "name": "python"
    }
  },
  "cells": [
    {
      "cell_type": "markdown",
      "metadata": {
        "id": "view-in-github",
        "colab_type": "text"
      },
      "source": [
        "<a href=\"https://colab.research.google.com/github/zhxkpo/NLP_2024/blob/main/24%ED%83%81%EA%B7%9C%EC%8B%9D_%EC%B0%BD%EC%82%AC%ED%94%84_%EA%B3%BC%EC%A0%9C.ipynb\" target=\"_parent\"><img src=\"https://colab.research.google.com/assets/colab-badge.svg\" alt=\"Open In Colab\"/></a>"
      ]
    },
    {
      "cell_type": "code",
      "execution_count": null,
      "metadata": {
        "colab": {
          "base_uri": "https://localhost:8080/"
        },
        "id": "KA7PVuJMsAOZ",
        "outputId": "3dabb800-f8ea-4607-f8b9-9eea7545a80a"
      },
      "outputs": [
        {
          "output_type": "stream",
          "name": "stdout",
          "text": [
            "정수1 : 5\n",
            "정수2 : 3\n",
            "5 -- 3 = 12\n"
          ]
        }
      ],
      "source": [
        "def m2n_sum(m,n):\n",
        "    s=0\n",
        "    if m>=n:\n",
        "        for i in range(n,m+1):\n",
        "            s+=i\n",
        "    else:\n",
        "        for i in range(m,n+1):\n",
        "            s+=i\n",
        "    print(f'{m} -- {n} = {s}')\n",
        "\n",
        "n1=int(input('정수1 : '))\n",
        "n2=int(input('정수2 : '))\n",
        "m2n_sum(n1,n2)"
      ]
    },
    {
      "cell_type": "code",
      "source": [
        "def m2n_sum(m,n):\n",
        "    s=0\n",
        "    if m>=n:\n",
        "        for i in range(n,m+1):\n",
        "            s+=i\n",
        "    else:\n",
        "        for i in range(m,n+1):\n",
        "            s+=i\n",
        "    print(f'{m} -- {n} = {s}')\n",
        "\n",
        "n1=int(input('정수1 : '))\n",
        "n2=int(input('정수2 : '))\n",
        "m2n_sum(n1,n2)"
      ],
      "metadata": {
        "colab": {
          "base_uri": "https://localhost:8080/"
        },
        "id": "Wg5BM0ri0P-s",
        "outputId": "71355705-ad6f-4a2a-e673-dc560841b4e4"
      },
      "execution_count": null,
      "outputs": [
        {
          "output_type": "stream",
          "name": "stdout",
          "text": [
            "정수1 : 3\n",
            "정수2 : 5\n",
            "3 -- 5 = 12\n"
          ]
        }
      ]
    }
  ]
}