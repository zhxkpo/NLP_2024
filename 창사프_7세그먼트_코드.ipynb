{
  "nbformat": 4,
  "nbformat_minor": 0,
  "metadata": {
    "colab": {
      "provenance": [],
      "authorship_tag": "ABX9TyN8Cfwh143YK0oNnbUc84Iq",
      "include_colab_link": true
    },
    "kernelspec": {
      "name": "python3",
      "display_name": "Python 3"
    },
    "language_info": {
      "name": "python"
    }
  },
  "cells": [
    {
      "cell_type": "markdown",
      "metadata": {
        "id": "view-in-github",
        "colab_type": "text"
      },
      "source": [
        "<a href=\"https://colab.research.google.com/github/zhxkpo/NLP_2024/blob/main/%EC%B0%BD%EC%82%AC%ED%94%84_7%EC%84%B8%EA%B7%B8%EB%A8%BC%ED%8A%B8_%EC%BD%94%EB%93%9C.ipynb\" target=\"_parent\"><img src=\"https://colab.research.google.com/assets/colab-badge.svg\" alt=\"Open In Colab\"/></a>"
      ]
    },
    {
      "cell_type": "code",
      "execution_count": null,
      "metadata": {
        "id": "lkGA8wBP5EQR"
      },
      "outputs": [],
      "source": [
        "#하이클래스 7s파일 받기\n",
        "#python3.12로 실행해보기\n"
      ]
    },
    {
      "cell_type": "code",
      "source": [
        "import turtle as t\n",
        "\n",
        "s7seg_img=[\"7s0.gif\",\"7s1.gif\",\"7s2.gif\",\"7s3.gif\",\"7s4.gif\",\"7s5.gif\",\"7s6.gif\",\"7s7.gif\",\"7s8.gif\",\"7s9.gif\",\"7s10.gif\"]\n",
        "\n",
        "def disp_num(k):\n",
        "    t.shape(s7seg_img[k])\n",
        "    t.stamp()\n",
        "\n",
        "def key_0():\n",
        "    disp_num(0)\n",
        "def key_1():\n",
        "    disp_num(1)\n",
        "def key_2():\n",
        "    disp_num(2)\n",
        "def key_3():\n",
        "    disp_num(3)\n",
        "def key_4():\n",
        "    disp_num(4)\n",
        "def key_5():\n",
        "    disp_num(5)\n",
        "def key_6():\n",
        "    disp_num(6)\n",
        "def key_7():\n",
        "    disp_num(7)\n",
        "def key_8():\n",
        "    disp_num(8)\n",
        "def key_9():\n",
        "    disp_num(9)\n",
        "def key_10():\n",
        "    disp_num(10)\n",
        "\n",
        "t.setup(400,400)\n",
        "s=t.Screen()\n",
        "t.hideturtle()\n",
        "t.speed(0)\n",
        "\n",
        "for i in range(11):\n",
        "    s.addshape(s7seg_img[i])\n",
        "\n",
        "disp_num(10)\n",
        "\n",
        "s.onkey(key_0,'0')\n",
        "s.onkey(key_1,'1')\n",
        "s.onkey(key_2,'2')\n",
        "s.onkey(key_3,'3')\n",
        "s.onkey(key_4,'4')\n",
        "s.onkey(key_5,'5')\n",
        "s.onkey(key_6,'6')\n",
        "s.onkey(key_7,'7')\n",
        "s.onkey(key_8,'8')\n",
        "s.onkey(key_9,'9')\n",
        "s.onkey(key_10,'10')\n",
        "s.listen()\n"
      ],
      "metadata": {
        "id": "Ks7f7pTX5b5R"
      },
      "execution_count": null,
      "outputs": []
    }
  ]
}