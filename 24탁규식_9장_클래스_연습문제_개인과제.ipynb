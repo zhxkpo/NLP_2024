{
  "nbformat": 4,
  "nbformat_minor": 0,
  "metadata": {
    "colab": {
      "provenance": [],
      "include_colab_link": true
    },
    "kernelspec": {
      "name": "python3",
      "display_name": "Python 3"
    },
    "language_info": {
      "name": "python"
    }
  },
  "cells": [
    {
      "cell_type": "markdown",
      "metadata": {
        "id": "view-in-github",
        "colab_type": "text"
      },
      "source": [
        "<a href=\"https://colab.research.google.com/github/zhxkpo/NLP_2024/blob/main/24%ED%83%81%EA%B7%9C%EC%8B%9D_9%EC%9E%A5_%ED%81%B4%EB%9E%98%EC%8A%A4_%EC%97%B0%EC%8A%B5%EB%AC%B8%EC%A0%9C_%EA%B0%9C%EC%9D%B8%EA%B3%BC%EC%A0%9C.ipynb\" target=\"_parent\"><img src=\"https://colab.research.google.com/assets/colab-badge.svg\" alt=\"Open In Colab\"/></a>"
      ]
    },
    {
      "cell_type": "code",
      "execution_count": null,
      "metadata": {
        "colab": {
          "base_uri": "https://localhost:8080/"
        },
        "id": "UCAp9VzFk3v5",
        "outputId": "47f31a00-e023-4ecc-e75b-9ff33c804536"
      },
      "outputs": [
        {
          "output_type": "stream",
          "name": "stdout",
          "text": [
            "c1 = C(11)\n",
            "c2 = C(1)\n",
            "c2 = C(0)\n",
            "c3 = C(30)\n",
            "c4 = C(0)\n"
          ]
        }
      ],
      "source": [
        "#9.8/9.9\n",
        "class Counter:\n",
        "    def __init__(self,__number=0):\n",
        "        if __number>=100 or __number<=-1:\n",
        "            self.__number=0\n",
        "        else:\n",
        "            self.__number=__number\n",
        "\n",
        "    def reset(self):\n",
        "        self.__number=0\n",
        "\n",
        "    def inc(self):\n",
        "        self.__number+=1\n",
        "        if self.__number>=100:\n",
        "            self.__number=0\n",
        "\n",
        "    def dec(self):\n",
        "        self.__number-=1\n",
        "        if self.__number<=-1:\n",
        "            self.__number=0\n",
        "\n",
        "    def __str__(self):\n",
        "        return f\"C({self.__number})\"\n",
        "\n",
        "    def __add__(self, other):\n",
        "        result = self.__number + other.__number\n",
        "        if result >= 100:\n",
        "            result = 0\n",
        "        return Counter(result)\n",
        "\n",
        "    def __sub__(self, other):\n",
        "        result = self.__number - other.__number\n",
        "        if result <= -1:\n",
        "            result = 0\n",
        "        return Counter(result)\n",
        "\n",
        "#9.8\n",
        "c1=Counter(10)\n",
        "c1.inc()\n",
        "print(f'c1 = {c1}')\n",
        "c2=Counter()\n",
        "c2.inc()\n",
        "c2.inc()\n",
        "c2.dec()\n",
        "print(f'c2 = {c2}')\n",
        "c2.reset()\n",
        "print(f'c2 = {c2}')\n",
        "\n",
        "#9.9\n",
        "c1=Counter(10)\n",
        "c2=Counter(20)\n",
        "c3 = c1 + c2\n",
        "c4 = c1 - c2\n",
        "print(f'c3 = {c3}')\n",
        "print(f'c4 = {c4}')"
      ]
    },
    {
      "cell_type": "code",
      "source": [
        "#9.10\n",
        "class BankAccount:\n",
        "    def __init__(self,name,account_num,balance=0):\n",
        "        self.__name=name\n",
        "        self.__account_num=account_num\n",
        "        self.__balance=balance\n",
        "\n",
        "    def __str__(self):\n",
        "        return f'{self.__name}의 계좌 {self.__account_num}의 잔고는 {self.__balance}원입니다.'\n",
        "\n",
        "    def get_name(self):\n",
        "        return self.__name\n",
        "\n",
        "    def get_account_num(self):\n",
        "        return self.__account_num\n",
        "\n",
        "    def get_balance(self):\n",
        "        return self.__balance\n",
        "\n",
        "    def deposit(self, money):\n",
        "        self.__balance+=money\n",
        "        print(f'{money}원이 입금 되었습니다. 잔고는 {self.__balance}원 입니다')\n",
        "\n",
        "    def withdraw(self,money):\n",
        "        if self.__balance>=money:\n",
        "            self.__balance-=money\n",
        "        else:\n",
        "            print(f\"계좌 잔고는 {self.__balance}원으로 인출 요구 금액 {money}원보다 작습니다.\")\n",
        "\n",
        "account1=BankAccount('홍길동','1234-0001')\n",
        "print(account1)\n",
        "account1.deposit(2000)\n",
        "print(account1)\n",
        "account1.withdraw(500)\n",
        "print(account1)\n",
        "account1.withdraw(5000)"
      ],
      "metadata": {
        "colab": {
          "base_uri": "https://localhost:8080/"
        },
        "id": "SNh_WkAR0q5d",
        "outputId": "3814faa0-1110-4410-a54a-555493c2b8df"
      },
      "execution_count": null,
      "outputs": [
        {
          "output_type": "stream",
          "name": "stdout",
          "text": [
            "홍길동의 계좌 1234-0001의 잔고는 0원입니다.\n",
            "2000원이 입금 되었습니다. 잔고는 2000원 입니다\n",
            "홍길동의 계좌 1234-0001의 잔고는 2000원입니다.\n",
            "홍길동의 계좌 1234-0001의 잔고는 1500원입니다.\n",
            "계좌 잔고는 1500원으로 인출 요구 금액 5000원보다 작습니다.\n"
          ]
        }
      ]
    },
    {
      "cell_type": "code",
      "source": [
        "#9.11\n",
        "class Student:\n",
        "    def __init__(self, name, student_id, korean_quiz=0, math_quiz=0, science_quiz=0):\n",
        "        self.__name=name\n",
        "        self.__student_id=student_id\n",
        "        self.__korean_quiz=korean_quiz\n",
        "        self.__math_quiz=math_quiz\n",
        "        self.__science_quiz=science_quiz\n",
        "        self.__total_score=korean_quiz+math_quiz+science_quiz\n",
        "\n",
        "    def __str__(self):\n",
        "        avg_score = self.get_avg_score()\n",
        "        return f'이름 : {self.__name}, 학번 : {self.__student_id}\\n국어성적 :{self.__korean_quiz}, 수학성적 : {self.__math_quiz}, 과학 성적 :{self.__science_quiz}\\n합계 : {self.__total_score}, 평균 : {avg_score}'\n",
        "\n",
        "    def get_name(self):\n",
        "        return self.__name\n",
        "\n",
        "    def get_student_id(self):\n",
        "        return self.__student_id\n",
        "\n",
        "    def get_korean_quiz(self):\n",
        "        return self.__korean_quiz\n",
        "\n",
        "    def get_math_quiz(self):\n",
        "        return self.__math_quiz\n",
        "\n",
        "    def get_science_quiz(self):\n",
        "        return self.__science_quiz\n",
        "\n",
        "    def set_name(self, name):\n",
        "        self.__name = name\n",
        "\n",
        "    def set_student_id(self, student_id):\n",
        "        self.__student_id = student_id\n",
        "\n",
        "    def set_korean_quiz(self, korean_quiz):\n",
        "        self.__korean_quiz = korean_quiz\n",
        "        self.__total_score = self.__korean_quiz + self.__math_quiz + self.__science_quiz\n",
        "\n",
        "    def set_math_quiz(self, math_quiz):\n",
        "        self.__math_quiz = math_quiz\n",
        "        self.__total_score = self.__korean_quiz + self.__math_quiz + self.__science_quiz\n",
        "\n",
        "    def set_science_quiz(self, science_quiz):\n",
        "        self.__science_quiz = science_quiz\n",
        "        self.__total_score = self.__korean_quiz + self.__math_quiz + self.__science_quiz\n",
        "\n",
        "    def get_total_score(self):\n",
        "        return self.__total_score\n",
        "\n",
        "    def get_avg_score(self):\n",
        "        return self.__total_score/3\n",
        "\n",
        "name = input('학생의 이름을 입력하세요 : ')\n",
        "student_id = input('학생의 학번을 입력하세요 : ')\n",
        "\n",
        "student=Student(name,student_id)\n",
        "\n",
        "korean_quiz = int(input('학생의 국어 성적을 입력하세요 : '))\n",
        "math_quiz = int(input('학생의 수학 성적을 입력하세요 : '))\n",
        "science_quiz = int(input('학생의 과학 성적을 입력하세요 : '))\n",
        "student.set_korean_quiz(korean_quiz)\n",
        "student.set_math_quiz(math_quiz)\n",
        "student.set_science_quiz(science_quiz)\n",
        "print(student)"
      ],
      "metadata": {
        "colab": {
          "base_uri": "https://localhost:8080/"
        },
        "id": "uZTgNaFskYyh",
        "outputId": "376b1103-ef07-473d-8a07-4a7e3ef6be7a"
      },
      "execution_count": null,
      "outputs": [
        {
          "output_type": "stream",
          "name": "stdout",
          "text": [
            "학생의 이름을 입력하세요 : 탁규식\n",
            "학생의 학번을 입력하세요 : 20242512\n",
            "학생의 국어 성적을 입력하세요 : 85\n",
            "학생의 수학 성적을 입력하세요 : 95\n",
            "학생의 과학 성적을 입력하세요 : 90\n",
            "이름 : 탁규식, 학번 : 20242512\n",
            "국어성적 :85, 수학성적 : 95, 과학 성적 :90\n",
            "합계 : 270, 평균 : 90.0\n"
          ]
        }
      ]
    },
    {
      "cell_type": "code",
      "source": [
        "#9.12\n",
        "class TV:\n",
        "    MIN_VOLUME = 0\n",
        "    MAX_VOLUME = 20\n",
        "    MIN_CHANNEL = 0\n",
        "    MAX_CHANNEL = 200\n",
        "\n",
        "    def __init__(self, volume=5, channel=0, is_on=False):\n",
        "        self.__volume = volume\n",
        "        self.__channel = channel\n",
        "        self.__is_on = is_on\n",
        "\n",
        "    def __str__(self):\n",
        "        if self.__is_on==False:\n",
        "            return 'TV가 꺼짐 상태 입니다.'\n",
        "        else:\n",
        "            return f'볼륨 = {self.__volume}, 채널 = {self.__channel}'\n",
        "\n",
        "    def toggle_power(self):\n",
        "        if self.__is_on==True:\n",
        "            self.__is_on=False\n",
        "        else:\n",
        "            self.__is_on=True\n",
        "\n",
        "    def get_channel(self):\n",
        "        return self.__channel\n",
        "\n",
        "    def set_channel(self,channel):\n",
        "        if TV.MIN_CHANNEL<=channel<=TV.MAX_CHANNEL:  # Validate channel\n",
        "            self.__channel=channel\n",
        "        else:\n",
        "            print('채널 오류')\n",
        "\n",
        "    def get_volume(self):\n",
        "        return self.__volume\n",
        "\n",
        "    def set_volume(self,volume):\n",
        "        if TV.MIN_VOLUME<=volume<=TV.MAX_VLOUME:\n",
        "            self.__volume=volume\n",
        "        else:\n",
        "            print('볼륨 오류')\n",
        "\n",
        "    def volume_up(self):\n",
        "        self.__volume+=1\n",
        "        if self.__volume>TV.MAX_VOLUME:\n",
        "            self.__voulme=TV.MAX_VOLUME\n",
        "\n",
        "    def volume_down(self):\n",
        "        self.__volume-=1\n",
        "        if self.__volume<TV.MIN_VOLUME:\n",
        "            self.__volume=TV.MIN_VOLUME\n",
        "\n",
        "    def channel_up(self):\n",
        "        self.__channel+=1\n",
        "        if self.__channel>TV.MAX_CHANNEL:\n",
        "            self.__channel=TV.MIN_CHANNEL\n",
        "\n",
        "    def channel_down(self):\n",
        "        self.__channel-=1\n",
        "        if self.__channel<TV.MIN_CHANNEL:\n",
        "            self.__channel=TV.MAX_CHANNEL\n",
        "\n",
        "my_tv = TV()\n",
        "print(my_tv)\n",
        "my_tv.toggle_power()\n",
        "print(my_tv)\n",
        "my_tv.set_channel(45)\n",
        "print(my_tv)\n",
        "my_tv.volume_up()\n",
        "my_tv.channel_up()\n",
        "print(my_tv)"
      ],
      "metadata": {
        "colab": {
          "base_uri": "https://localhost:8080/"
        },
        "id": "7Ha3WN8kkhA7",
        "outputId": "cb5bc6db-7267-431e-887d-e15d4dddfc86"
      },
      "execution_count": null,
      "outputs": [
        {
          "output_type": "stream",
          "name": "stdout",
          "text": [
            "TV가 꺼짐 상태 입니다.\n",
            "볼륨 = 5, 채널 = 0\n",
            "볼륨 = 5, 채널 = 45\n",
            "볼륨 = 6, 채널 = 46\n"
          ]
        }
      ]
    },
    {
      "cell_type": "code",
      "source": [
        "#9.14\n",
        "class Circle:\n",
        "    PI=3.14\n",
        "    def __init__(self,x,y,radius):\n",
        "        self.__x=x\n",
        "        self.__y=y\n",
        "        self.__radius=radius\n",
        "\n",
        "    def __str__(self):\n",
        "        area=self.area()\n",
        "        return f'Circle : (x = {self.__x}, y = {self.__y}, r = {self.__radius}), 면적: {area}'\n",
        "\n",
        "    def set_x(self,x):\n",
        "        self.__x=x\n",
        "\n",
        "    def get_x(self):\n",
        "        return self.__x\n",
        "\n",
        "    def set_y(self,y):\n",
        "        self.__y=y\n",
        "\n",
        "    def get_y(self):\n",
        "        return self.__y\n",
        "\n",
        "    def set_radius(self,radius):\n",
        "        self.__radius=radius\n",
        "\n",
        "    def get_radius(self):\n",
        "        return self.__radius\n",
        "\n",
        "    def area(self):\n",
        "        return Circle.PI*self.__radius**2\n",
        "\n",
        "    def overlaps(self,c):\n",
        "        distance = ((self.__x - c.__x)**2 + (self.__y - c.__y)**2)**0.5\n",
        "        return distance < (self.__radius + c.__radius)\n",
        "\n",
        "    def contains(self,c):\n",
        "        distance = ((self.__x - c.__x)**2 + (self.__y - c.__y)**2)**0.5\n",
        "        return distance + c.__radius <= self.__radius\n",
        "\n",
        "c1 = Circle(0,0,100)\n",
        "c2 = Circle(0,-10,10)\n",
        "c3 = Circle(-100,0,120)\n",
        "\n",
        "print(f'c1 = {c1}')\n",
        "print(f'c2 = {c2}')\n",
        "print(f'c3 = {c3}')\n",
        "\n",
        "print(f'c1 contains c2 : {c1.contains(c2)}')\n",
        "print(f'c1 contains c3 : {c1.contains(c3)}')\n",
        "print(f'c1 overlaps c2 : {c1.overlaps(c2)}')\n",
        "print(f'c1 overlaps c3 : {c1.overlaps(c3)}')"
      ],
      "metadata": {
        "colab": {
          "base_uri": "https://localhost:8080/"
        },
        "id": "jDR2vQfceHXP",
        "outputId": "4511be50-ee5e-4292-8f1e-cbd6c350a880"
      },
      "execution_count": null,
      "outputs": [
        {
          "output_type": "stream",
          "name": "stdout",
          "text": [
            "c1 = Circle : (x = 0, y = 0, r = 100), 면적: 31400.0\n",
            "c2 = Circle : (x = 0, y = -10, r = 10), 면적: 314.0\n",
            "c3 = Circle : (x = -100, y = 0, r = 120), 면적: 45216.0\n",
            "c1 contains c2 : True\n",
            "c1 contains c3 : False\n",
            "c1 overlaps c2 : True\n",
            "c1 overlaps c3 : True\n"
          ]
        }
      ]
    }
  ]
}