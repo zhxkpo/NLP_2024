{
  "nbformat": 4,
  "nbformat_minor": 0,
  "metadata": {
    "colab": {
      "provenance": [],
      "include_colab_link": true
    },
    "kernelspec": {
      "name": "python3",
      "display_name": "Python 3"
    },
    "language_info": {
      "name": "python"
    }
  },
  "cells": [
    {
      "cell_type": "markdown",
      "metadata": {
        "id": "view-in-github",
        "colab_type": "text"
      },
      "source": [
        "<a href=\"https://colab.research.google.com/github/zhxkpo/NLP_2024/blob/main/%EC%B0%BD%EC%82%AC%ED%94%84_%EB%A1%9C%EB%B4%87_%EC%B2%AD%EC%86%8C%EA%B8%B0%2B_.ipynb\" target=\"_parent\"><img src=\"https://colab.research.google.com/assets/colab-badge.svg\" alt=\"Open In Colab\"/></a>"
      ]
    },
    {
      "cell_type": "code",
      "execution_count": null,
      "metadata": {
        "colab": {
          "base_uri": "https://localhost:8080/"
        },
        "id": "0kZjeSeazvWC",
        "outputId": "6c4448ef-3e55-4ae9-d42e-ff8f501ace27"
      },
      "outputs": [
        {
          "output_type": "stream",
          "name": "stdout",
          "text": [
            "['사과', '배', '감']\n",
            "0 사과\n",
            "1 배\n",
            "2 감\n",
            "['사과', '배', '딸기', '감']\n",
            "0 사과\n",
            "1 배\n",
            "2 딸기\n",
            "3 감\n",
            "['사과', '배', '딸기', '감'] 4\n",
            "['사과', '배', '감'] 3\n",
            "['감'] 1\n",
            "[] 0\n"
          ]
        }
      ],
      "source": [
        "\n",
        "fruit=[]\n",
        "fruit.append(\"사과\")\n",
        "fruit.append(\"배\")\n",
        "fruit.append(\"감\")\n",
        "print(fruit)\n",
        "for i in range(len(fruit)):\n",
        "    print(i,fruit[i])\n",
        "\n",
        "fruit.insert(2,\"딸기\")\n",
        "print(fruit)\n",
        "for i in range(len(fruit)):\n",
        "    print(i,fruit[i])\n",
        "\n",
        "fruit=[\"사과\",\"배\",\"딸기\",\"감\"]\n",
        "print(fruit,len(fruit))\n",
        "del fruit[2]\n",
        "print(fruit,len(fruit))\n",
        "del fruit[0:2]\n",
        "print(fruit,len(fruit))\n",
        "fruit.remove(\"감\")\n",
        "print(fruit,len(fruit))"
      ]
    },
    {
      "cell_type": "code",
      "source": [
        "import turtle as t\n",
        "robot_fn=\"robotic_vacuum.gif\"\n",
        "rx=[]\n",
        "ry=[]\n",
        "move_cnt=0\n",
        "\n",
        "def move_robot(action):\n",
        "    t.clear()\n",
        "    if action==0:\n",
        "        for i in range(move_cnt):\n",
        "            t.goto(rx[i],ry[i])\n",
        "    elif action==1:\n",
        "        for i in range(move_cnt-1,-1,-1):\n",
        "            t.goto(rx[i],ry[i])\n",
        "    elif action==2:\n",
        "        t.goto(rx[move_cnt-1],ry[move_cnt-1])\n",
        "    elif action==3:\n",
        "        t.goto(rx[0],ry[0])\n",
        "    t.penup()\n",
        "\n",
        "def clicked(x,y):\n",
        "    global move_cnt\n",
        "    move_cnt+=1\n",
        "    rx.append(x)\n",
        "    ry.append(x)\n",
        "    print(rx,ry)\n",
        "\n",
        "def list_clear():\n",
        "    global move_cnt\n",
        "    del rx[1:move_cnt]\n",
        "    del ry[1:move_cnt]\n",
        "    move_cnt=1\n",
        "    print(rx,ry)\n",
        "\n",
        "def key_SP():\n",
        "    move_robot(0)\n",
        "def key_BS():\n",
        "    move_robot(1)\n",
        "def key_s():\n",
        "    move_robot(2)\n",
        "def key_r():\n",
        "    move_robot(3)\n",
        "def key_e():\n",
        "    list_clear()\n",
        "\n",
        "t.setup(600,600)\n",
        "s=t.Screen()\n",
        "t.hideturtle()\n",
        "\n",
        "s.addshape(robot_fn)\n",
        "t.shape(robot_fn)\n",
        "t.speed(6)\n",
        "t.penup()\n",
        "clicked(-265,265)\n",
        "t.goto(-265,265)\n",
        "t.showturtle()"
      ],
      "metadata": {
        "id": "pRP-AMkGz9hj"
      },
      "execution_count": null,
      "outputs": []
    }
  ]
}