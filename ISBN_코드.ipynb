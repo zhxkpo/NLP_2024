{
  "nbformat": 4,
  "nbformat_minor": 0,
  "metadata": {
    "colab": {
      "provenance": [],
      "authorship_tag": "ABX9TyOtDSZgA1gX605Npb4OsIAp",
      "include_colab_link": true
    },
    "kernelspec": {
      "name": "python3",
      "display_name": "Python 3"
    },
    "language_info": {
      "name": "python"
    }
  },
  "cells": [
    {
      "cell_type": "markdown",
      "metadata": {
        "id": "view-in-github",
        "colab_type": "text"
      },
      "source": [
        "<a href=\"https://colab.research.google.com/github/zhxkpo/NLP_2024/blob/main/ISBN_%EC%BD%94%EB%93%9C.ipynb\" target=\"_parent\"><img src=\"https://colab.research.google.com/assets/colab-badge.svg\" alt=\"Open In Colab\"/></a>"
      ]
    },
    {
      "cell_type": "code",
      "execution_count": null,
      "metadata": {
        "id": "ZNA49J2u9JAG"
      },
      "outputs": [],
      "source": [
        "#창사프(파이썬 IDLE에서 실행)"
      ]
    },
    {
      "cell_type": "code",
      "source": [
        "def isbn_check(isbn):\n",
        "    s=0\n",
        "\n",
        "    for i in range(len(isbn)-1):\n",
        "        if (i+1)%2==1:\n",
        "            s=s+int(isbn[i])*1\n",
        "        else:\n",
        "            s=s+int(isbn[i])*3\n",
        "    print('ISBN 1~12자리의 가중치 반영 합계 : %d'%s)\n",
        "\n",
        "    t=s%10\n",
        "    chk=(10-t)%10\n",
        "    print('ISBN 1~12자리의 체크 기호 값 : %d'%chk)\n",
        "\n",
        "    if chk==int(isbn[12]):\n",
        "        rst=1\n",
        "    else:\n",
        "        rst=0\n",
        "    return rst\n",
        "\n",
        "isbn=input('ISBN 13자리(- 제외) : ')\n",
        "\n",
        "if len(isbn)==13:\n",
        "    rst=isbn_check(isbn)\n",
        "    if rst==1:\n",
        "        print('ISBN 코드 : %s는 검증되었습니다.'%isbn)\n",
        "    else:\n",
        "        print('ISBN 코드 : %s는 검증되지 않았습니다.'%isbn)\n",
        "else:\n",
        "    print('ISBN 코드 입력은 -를 제외하고 13자리를 입력해 주세요.')\n"
      ],
      "metadata": {
        "id": "9YVAjHTk_5t2"
      },
      "execution_count": null,
      "outputs": []
    }
  ]
}